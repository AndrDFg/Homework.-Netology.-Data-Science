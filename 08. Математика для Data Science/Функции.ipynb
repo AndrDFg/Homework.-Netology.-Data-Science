{
  "nbformat": 4,
  "nbformat_minor": 0,
  "metadata": {
    "colab": {
      "provenance": []
    },
    "kernelspec": {
      "name": "python3",
      "display_name": "Python 3"
    },
    "language_info": {
      "name": "python"
    }
  },
  "cells": [
    {
      "cell_type": "code",
      "execution_count": null,
      "metadata": {
        "id": "ed4beUGLYo43"
      },
      "outputs": [],
      "source": [
        "import numpy as np\n",
        "import matplotlib.pyplot as plt\n",
        "import sympy as sym\n",
        "import math\n",
        "import scipy"
      ]
    },
    {
      "cell_type": "markdown",
      "source": [
        "**Вычислить значение первой производной функции**\n",
        "Ответ округлить до сотых долей.\n",
        "Важно! В качестве разделителя в ответе должна использоваться точка, а не запятая."
      ],
      "metadata": {
        "id": "JmTaqPxRjZoe"
      }
    },
    {
      "cell_type": "markdown",
      "source": [
        "**Пример_1**"
      ],
      "metadata": {
        "id": "nzy7kK8zTjHn"
      }
    },
    {
      "cell_type": "code",
      "source": [
        "x = sym.Symbol('x')\n",
        "f = 8*x*sym.cos(x**2)+6*sym.sin(2*x)+6*sym.cos(3*x)\n",
        "f"
      ],
      "metadata": {
        "colab": {
          "base_uri": "https://localhost:8080/",
          "height": 39
        },
        "id": "uGS5n0pbf8yj",
        "outputId": "d90423d4-a8cd-4223-ea05-e0124bfc21b6"
      },
      "execution_count": null,
      "outputs": [
        {
          "output_type": "execute_result",
          "data": {
            "text/plain": [
              "8*x*cos(x**2) + 6*sin(2*x) + 6*cos(3*x)"
            ],
            "text/latex": "$\\displaystyle 8 x \\cos{\\left(x^{2} \\right)} + 6 \\sin{\\left(2 x \\right)} + 6 \\cos{\\left(3 x \\right)}$"
          },
          "metadata": {},
          "execution_count": 23
        }
      ]
    },
    {
      "cell_type": "markdown",
      "source": [
        "**Производную данной функции можно найти так:**"
      ],
      "metadata": {
        "id": "YMtOw4Du6GUt"
      }
    },
    {
      "cell_type": "code",
      "source": [
        "sym.diff(f, x)"
      ],
      "metadata": {
        "colab": {
          "base_uri": "https://localhost:8080/",
          "height": 39
        },
        "id": "J5KcYGWn6G9z",
        "outputId": "5bf1d5a4-9ade-4cad-ace9-0e84e6422325"
      },
      "execution_count": null,
      "outputs": [
        {
          "output_type": "execute_result",
          "data": {
            "text/plain": [
              "-16*x**2*sin(x**2) - 18*sin(3*x) + 12*cos(2*x) + 8*cos(x**2)"
            ],
            "text/latex": "$\\displaystyle - 16 x^{2} \\sin{\\left(x^{2} \\right)} - 18 \\sin{\\left(3 x \\right)} + 12 \\cos{\\left(2 x \\right)} + 8 \\cos{\\left(x^{2} \\right)}$"
          },
          "metadata": {},
          "execution_count": 10
        }
      ]
    },
    {
      "cell_type": "code",
      "source": [
        "x = np.pi/6\n",
        "x"
      ],
      "metadata": {
        "colab": {
          "base_uri": "https://localhost:8080/"
        },
        "id": "msIQowHcgVNH",
        "outputId": "98b370dc-970c-4db3-f122-4d581563fda3"
      },
      "execution_count": null,
      "outputs": [
        {
          "output_type": "execute_result",
          "data": {
            "text/plain": [
              "0.5235987755982988"
            ]
          },
          "metadata": {},
          "execution_count": 11
        }
      ]
    },
    {
      "cell_type": "code",
      "source": [
        "y1 = 8*x*sym.cos(x**2)+6*sym.sin(2*x)+6*sym.cos(3*x)"
      ],
      "metadata": {
        "id": "QDMaO2LqjGD6"
      },
      "execution_count": null,
      "outputs": []
    },
    {
      "cell_type": "code",
      "source": [
        "round(y1, 2)"
      ],
      "metadata": {
        "colab": {
          "base_uri": "https://localhost:8080/",
          "height": 37
        },
        "id": "alT975xAht8A",
        "outputId": "5f3dd24e-d103-42a8-cbac-83da012578e1"
      },
      "execution_count": null,
      "outputs": [
        {
          "output_type": "execute_result",
          "data": {
            "text/plain": [
              "9.23"
            ],
            "text/latex": "$\\displaystyle 9.23$"
          },
          "metadata": {},
          "execution_count": 13
        }
      ]
    },
    {
      "cell_type": "markdown",
      "source": [
        "**Пример_2**"
      ],
      "metadata": {
        "id": "j-b9zIO5Tl0F"
      }
    },
    {
      "cell_type": "code",
      "source": [
        "x = sym.Symbol('x')\n",
        "f = 8*sym.cos(x**2) - 16*x**2*sym.sin(x**2) + 12*sym.cos(2*x) - 18*sym.sin(3*x)\n",
        "f"
      ],
      "metadata": {
        "colab": {
          "base_uri": "https://localhost:8080/",
          "height": 39
        },
        "id": "e1LqalELlw89",
        "outputId": "0b5ae8ea-37ce-4593-f405-8f25d15b160c"
      },
      "execution_count": null,
      "outputs": [
        {
          "output_type": "execute_result",
          "data": {
            "text/plain": [
              "-16*x**2*sin(x**2) - 18*sin(3*x) + 12*cos(2*x) + 8*cos(x**2)"
            ],
            "text/latex": "$\\displaystyle - 16 x^{2} \\sin{\\left(x^{2} \\right)} - 18 \\sin{\\left(3 x \\right)} + 12 \\cos{\\left(2 x \\right)} + 8 \\cos{\\left(x^{2} \\right)}$"
          },
          "metadata": {},
          "execution_count": 21
        }
      ]
    },
    {
      "cell_type": "code",
      "source": [
        "x = np.pi/6\n",
        "x"
      ],
      "metadata": {
        "colab": {
          "base_uri": "https://localhost:8080/"
        },
        "id": "OWHYldItUeBp",
        "outputId": "e50d8791-e361-4bd3-8e86-f640d11c6949"
      },
      "execution_count": null,
      "outputs": [
        {
          "output_type": "execute_result",
          "data": {
            "text/plain": [
              "0.5235987755982988"
            ]
          },
          "metadata": {},
          "execution_count": 239
        }
      ]
    },
    {
      "cell_type": "code",
      "source": [
        "y2 = 8*math.cos(x**2) - 16*x**2*math.sin(x**2) + 12*math.cos(2*x) - 18*math.sin(3*x)\n",
        "round(y2, 2)"
      ],
      "metadata": {
        "colab": {
          "base_uri": "https://localhost:8080/"
        },
        "id": "Rxa1mLO7UxHx",
        "outputId": "fd154887-e024-40a8-f7a4-3a1596349341"
      },
      "execution_count": null,
      "outputs": [
        {
          "output_type": "execute_result",
          "data": {
            "text/plain": [
              "-5.49"
            ]
          },
          "metadata": {},
          "execution_count": 241
        }
      ]
    },
    {
      "cell_type": "markdown",
      "source": [],
      "metadata": {
        "id": "RfLhwJAUYsSo"
      }
    },
    {
      "cell_type": "markdown",
      "source": [
        "**Пример_3**"
      ],
      "metadata": {
        "id": "N4FRmXiuYuM0"
      }
    },
    {
      "cell_type": "code",
      "source": [
        "x = sym.Symbol('x')\n",
        "e = sym.Symbol('e')\n",
        "f = 4*x - 3*e**(-3*x)\n",
        "f"
      ],
      "metadata": {
        "colab": {
          "base_uri": "https://localhost:8080/",
          "height": 39
        },
        "id": "8A-RbHqTYrIX",
        "outputId": "048d3d5b-10f3-4f58-abfb-703e4ef51ad0"
      },
      "execution_count": null,
      "outputs": [
        {
          "output_type": "execute_result",
          "data": {
            "text/plain": [
              "4*x - 3/e**(3*x)"
            ],
            "text/latex": "$\\displaystyle 4 x - 3 e^{- 3 x}$"
          },
          "metadata": {},
          "execution_count": 20
        }
      ]
    },
    {
      "cell_type": "code",
      "source": [
        "x = 2\n",
        "y3 = 4*x - 3*math.e**(-3*x)\n",
        "round(y3, 2)"
      ],
      "metadata": {
        "colab": {
          "base_uri": "https://localhost:8080/"
        },
        "id": "1u4DaKp6ZfIZ",
        "outputId": "f148dd0d-9ec7-49d6-ef3d-8a502f98af4f"
      },
      "execution_count": null,
      "outputs": [
        {
          "output_type": "execute_result",
          "data": {
            "text/plain": [
              "7.99"
            ]
          },
          "metadata": {},
          "execution_count": 242
        }
      ]
    },
    {
      "cell_type": "markdown",
      "source": [
        "**Пример_4**"
      ],
      "metadata": {
        "id": "eO_ezlFkbKrB"
      }
    },
    {
      "cell_type": "code",
      "source": [
        "x = sym.Symbol('x')\n",
        "e = sym.Symbol('e')\n",
        "f = 4 + 9*e**(-3*x)\n",
        "f"
      ],
      "metadata": {
        "colab": {
          "base_uri": "https://localhost:8080/",
          "height": 39
        },
        "id": "_-aJpDKnbL5y",
        "outputId": "cd5268e0-a71c-486e-d20a-63480fa24225"
      },
      "execution_count": null,
      "outputs": [
        {
          "output_type": "execute_result",
          "data": {
            "text/plain": [
              "4 + 9/e**(3*x)"
            ],
            "text/latex": "$\\displaystyle 4 + 9 e^{- 3 x}$"
          },
          "metadata": {},
          "execution_count": 202
        }
      ]
    },
    {
      "cell_type": "code",
      "source": [
        "x = 2\n",
        "y4 = 9*math.e**(-3*x) + 4\n",
        "round(y4, 2)"
      ],
      "metadata": {
        "colab": {
          "base_uri": "https://localhost:8080/"
        },
        "id": "XARYkTR5bbqa",
        "outputId": "7afb00d6-b2bd-494a-b923-9bb9ced5b2d4"
      },
      "execution_count": null,
      "outputs": [
        {
          "output_type": "execute_result",
          "data": {
            "text/plain": [
              "4.02"
            ]
          },
          "metadata": {},
          "execution_count": 243
        }
      ]
    },
    {
      "cell_type": "markdown",
      "source": [
        "**Пример_5**"
      ],
      "metadata": {
        "id": "XFlusweKjLZG"
      }
    },
    {
      "cell_type": "code",
      "source": [
        "x = sym.Symbol('x')\n",
        "f = 2*x*sym.cos(x**2) - 3/x\n",
        "f"
      ],
      "metadata": {
        "colab": {
          "base_uri": "https://localhost:8080/",
          "height": 51
        },
        "id": "7qIqYotsjOth",
        "outputId": "994c1cbf-59a1-4897-e8ab-6f7481599ad2"
      },
      "execution_count": null,
      "outputs": [
        {
          "output_type": "execute_result",
          "data": {
            "text/plain": [
              "2*x*cos(x**2) - 3/x"
            ],
            "text/latex": "$\\displaystyle 2 x \\cos{\\left(x^{2} \\right)} - \\frac{3}{x}$"
          },
          "metadata": {},
          "execution_count": 87
        }
      ]
    },
    {
      "cell_type": "code",
      "source": [
        "x = 3\n",
        "у5 = 2*x*math.cos(x**2) - 3/x\n",
        "round(у5, 2)"
      ],
      "metadata": {
        "colab": {
          "base_uri": "https://localhost:8080/"
        },
        "id": "us3n5qqzkwbK",
        "outputId": "8eeab4ab-f462-4c03-9634-c40215381638"
      },
      "execution_count": null,
      "outputs": [
        {
          "output_type": "execute_result",
          "data": {
            "text/plain": [
              "-6.47"
            ]
          },
          "metadata": {},
          "execution_count": 91
        }
      ]
    },
    {
      "cell_type": "markdown",
      "source": [
        "**Пример_6**"
      ],
      "metadata": {
        "id": "xgkumH57nHxz"
      }
    },
    {
      "cell_type": "code",
      "source": [
        "x = sym.Symbol('x')\n",
        "f = 2*(sym.cos(x**2) - 2*x**2*sym.sin(x**2)) + 3/x**2\n",
        "f"
      ],
      "metadata": {
        "colab": {
          "base_uri": "https://localhost:8080/",
          "height": 51
        },
        "id": "xOK3nIFqnGsz",
        "outputId": "c2b562a4-39a2-4816-860f-b6be50c6f67d"
      },
      "execution_count": null,
      "outputs": [
        {
          "output_type": "execute_result",
          "data": {
            "text/plain": [
              "-4*x**2*sin(x**2) + 2*cos(x**2) + 3/x**2"
            ],
            "text/latex": "$\\displaystyle - 4 x^{2} \\sin{\\left(x^{2} \\right)} + 2 \\cos{\\left(x^{2} \\right)} + \\frac{3}{x^{2}}$"
          },
          "metadata": {},
          "execution_count": 250
        }
      ]
    },
    {
      "cell_type": "code",
      "source": [
        "x = 3\n",
        "y6 = 2*math.cos(x**2) - 4*x**2*math.sin(x**2) + 3/x**2\n",
        "round(y6, 2)"
      ],
      "metadata": {
        "colab": {
          "base_uri": "https://localhost:8080/"
        },
        "id": "gqUqvtuZoSwB",
        "outputId": "6616cd6a-3990-4189-cfac-ea1547680114"
      },
      "execution_count": null,
      "outputs": [
        {
          "output_type": "execute_result",
          "data": {
            "text/plain": [
              "-16.33"
            ]
          },
          "metadata": {},
          "execution_count": 251
        }
      ]
    },
    {
      "cell_type": "markdown",
      "source": [
        "**Пример_7**"
      ],
      "metadata": {
        "id": "MtBKIX2pvZf5"
      }
    },
    {
      "cell_type": "code",
      "source": [
        "x = sym.Symbol('x')\n",
        "f = (x**4-4*x**3+12*x**2-2*x+17)/(x**2-2*x+5)**2\n",
        "f"
      ],
      "metadata": {
        "colab": {
          "base_uri": "https://localhost:8080/",
          "height": 61
        },
        "id": "4p72L0i3nkB7",
        "outputId": "5999b19b-8e47-4323-fa7b-10821f62bbd5"
      },
      "execution_count": null,
      "outputs": [
        {
          "output_type": "execute_result",
          "data": {
            "text/plain": [
              "(x**4 - 4*x**3 + 12*x**2 - 2*x + 17)/(x**2 - 2*x + 5)**2"
            ],
            "text/latex": "$\\displaystyle \\frac{x^{4} - 4 x^{3} + 12 x^{2} - 2 x + 17}{\\left(x^{2} - 2 x + 5\\right)^{2}}$"
          },
          "metadata": {},
          "execution_count": 252
        }
      ]
    },
    {
      "cell_type": "code",
      "source": [
        "x = 4\n",
        "у7 = (x**4-4*x**3+12*x**2-2*x+17)/(x**2-2*x+5)**2\n",
        "round(у7, 2)"
      ],
      "metadata": {
        "colab": {
          "base_uri": "https://localhost:8080/"
        },
        "id": "F4oBDy-Jv0hs",
        "outputId": "7ead2cb9-6a6e-46f7-c00e-c771a02674cf"
      },
      "execution_count": null,
      "outputs": [
        {
          "output_type": "execute_result",
          "data": {
            "text/plain": [
              "1.19"
            ]
          },
          "metadata": {},
          "execution_count": 253
        }
      ]
    },
    {
      "cell_type": "markdown",
      "source": [
        "**Пример_8**"
      ],
      "metadata": {
        "id": "QDpsutlRwLDZ"
      }
    },
    {
      "cell_type": "code",
      "source": [
        "x = sym.Symbol('x')\n",
        "f = 2*(2*x**3-27*x**2+24*x+29)/(x**2-2*x+5)**3\n",
        "f"
      ],
      "metadata": {
        "colab": {
          "base_uri": "https://localhost:8080/",
          "height": 61
        },
        "id": "jL3E5-jnwNT_",
        "outputId": "6c9826c2-d8e8-44ed-a10b-f4daf7823ba6"
      },
      "execution_count": null,
      "outputs": [
        {
          "output_type": "execute_result",
          "data": {
            "text/plain": [
              "(4*x**3 - 54*x**2 + 48*x + 58)/(x**2 - 2*x + 5)**3"
            ],
            "text/latex": "$\\displaystyle \\frac{4 x^{3} - 54 x^{2} + 48 x + 58}{\\left(x^{2} - 2 x + 5\\right)^{3}}$"
          },
          "metadata": {},
          "execution_count": 215
        }
      ]
    },
    {
      "cell_type": "code",
      "source": [
        "x = 4\n",
        "у8 = 2*(2*x**3-27*x**2+24*x+29)/(x**2-2*x+5)**3\n",
        "round(у8, 2)"
      ],
      "metadata": {
        "colab": {
          "base_uri": "https://localhost:8080/"
        },
        "id": "J39ZAwgGwIzk",
        "outputId": "f9cac25f-f6fd-481a-afdb-a1f4f2d77759"
      },
      "execution_count": null,
      "outputs": [
        {
          "output_type": "execute_result",
          "data": {
            "text/plain": [
              "-0.16"
            ]
          },
          "metadata": {},
          "execution_count": 249
        }
      ]
    },
    {
      "cell_type": "code",
      "source": [
        "x = sym.Symbol('x')\n",
        "math.e**(x)"
      ],
      "metadata": {
        "id": "cGp9vzI7lN5p",
        "colab": {
          "base_uri": "https://localhost:8080/",
          "height": 37
        },
        "outputId": "cc95b0a1-0ee3-4990-9d88-d8af459d0a7f"
      },
      "execution_count": null,
      "outputs": [
        {
          "output_type": "execute_result",
          "data": {
            "text/plain": [
              "2.71828182845905**x"
            ],
            "text/latex": "$\\displaystyle {2.71828182845905}^{x}$"
          },
          "metadata": {},
          "execution_count": 5
        }
      ]
    },
    {
      "cell_type": "code",
      "source": [],
      "metadata": {
        "id": "qYjDuxNZkq0g"
      },
      "execution_count": null,
      "outputs": []
    },
    {
      "cell_type": "code",
      "source": [
        "import sympy as sym\n",
        "def fuction(x):\n",
        "\n",
        "  return (1+1/x)**x\n"
      ],
      "metadata": {
        "id": "nRFNYNsti0VA"
      },
      "execution_count": null,
      "outputs": []
    },
    {
      "cell_type": "code",
      "source": [
        "x = np.arange(1, 10)\n",
        "x"
      ],
      "metadata": {
        "id": "3PeuBNKmhBm5",
        "colab": {
          "base_uri": "https://localhost:8080/"
        },
        "outputId": "bf013c6e-1b2d-461c-fcf5-da727a00a626"
      },
      "execution_count": null,
      "outputs": [
        {
          "output_type": "execute_result",
          "data": {
            "text/plain": [
              "array([1, 2, 3, 4, 5, 6, 7, 8, 9])"
            ]
          },
          "metadata": {},
          "execution_count": 30
        }
      ]
    },
    {
      "cell_type": "code",
      "source": [
        "x = np.arange(0,2*(np.pi), 0.1)\n",
        "x"
      ],
      "metadata": {
        "id": "jmV4__MRehU3",
        "colab": {
          "base_uri": "https://localhost:8080/"
        },
        "outputId": "d42b585a-1652-4a4d-a6b8-2e6d7446cf04"
      },
      "execution_count": null,
      "outputs": [
        {
          "output_type": "execute_result",
          "data": {
            "text/plain": [
              "array([0. , 0.1, 0.2, 0.3, 0.4, 0.5, 0.6, 0.7, 0.8, 0.9, 1. , 1.1, 1.2,\n",
              "       1.3, 1.4, 1.5, 1.6, 1.7, 1.8, 1.9, 2. , 2.1, 2.2, 2.3, 2.4, 2.5,\n",
              "       2.6, 2.7, 2.8, 2.9, 3. , 3.1, 3.2, 3.3, 3.4, 3.5, 3.6, 3.7, 3.8,\n",
              "       3.9, 4. , 4.1, 4.2, 4.3, 4.4, 4.5, 4.6, 4.7, 4.8, 4.9, 5. , 5.1,\n",
              "       5.2, 5.3, 5.4, 5.5, 5.6, 5.7, 5.8, 5.9, 6. , 6.1, 6.2])"
            ]
          },
          "metadata": {},
          "execution_count": 36
        }
      ]
    },
    {
      "cell_type": "code",
      "source": [
        "y = np.sin(x)"
      ],
      "metadata": {
        "id": "NCCZ-y9Xf_fg"
      },
      "execution_count": null,
      "outputs": []
    },
    {
      "cell_type": "code",
      "source": [
        "plt.plot(x, fuction(x), label='кубическая функция');\n",
        "#plt.plot(x, y)\n",
        "plt.xlabel('x')\n",
        "plt.ylabel('y')\n",
        "plt.title('Моя функция')\n",
        "plt.legend()\n",
        "plt.show()"
      ],
      "metadata": {
        "colab": {
          "base_uri": "https://localhost:8080/",
          "height": 507
        },
        "id": "SlYS5LAjgx5v",
        "outputId": "8bc6912f-fc04-40db-c272-043facc6d8d6"
      },
      "execution_count": null,
      "outputs": [
        {
          "output_type": "stream",
          "name": "stderr",
          "text": [
            "<ipython-input-34-f50035f3c9b7>:4: RuntimeWarning: divide by zero encountered in divide\n",
            "  return (1+1/x)**x\n"
          ]
        },
        {
          "output_type": "display_data",
          "data": {
            "text/plain": [
              "<Figure size 640x480 with 1 Axes>"
            ],
            "image/png": "[encoded data removed]"
          },
          "metadata": {}
        }
      ]
    },
    {
      "cell_type": "markdown",
      "source": [
        "**Вычисление пределов**"
      ],
      "metadata": {
        "id": "OFcpaXkauVL5"
      }
    },
    {
      "cell_type": "code",
      "source": [
        "import sympy as sym\n",
        "import math"
      ],
      "metadata": {
        "id": "AqgSPsZUuXRS"
      },
      "execution_count": null,
      "outputs": []
    },
    {
      "cell_type": "code",
      "source": [
        "x = sym.Symbol('x')"
      ],
      "metadata": {
        "id": "YqeIP9m-_YTb"
      },
      "execution_count": null,
      "outputs": []
    },
    {
      "cell_type": "code",
      "source": [
        "y = (1+1/x)**x\n",
        "y"
      ],
      "metadata": {
        "colab": {
          "base_uri": "https://localhost:8080/",
          "height": 59
        },
        "id": "i821eyps_nuh",
        "outputId": "1a6bab99-dfed-45e5-a7e0-2d5ca6f07102"
      },
      "execution_count": null,
      "outputs": [
        {
          "output_type": "execute_result",
          "data": {
            "text/plain": [
              "(1 + 1/x)**x"
            ],
            "text/latex": "$\\displaystyle \\left(1 + \\frac{1}{x}\\right)^{x}$"
          },
          "metadata": {},
          "execution_count": 17
        }
      ]
    },
    {
      "cell_type": "code",
      "source": [
        "q = sym.limit(y, x, math.inf)\n",
        "q"
      ],
      "metadata": {
        "colab": {
          "base_uri": "https://localhost:8080/",
          "height": 39
        },
        "id": "596-SwCJMPMy",
        "outputId": "5b6c44a1-bdf0-444d-83a3-248318da1e97"
      },
      "execution_count": null,
      "outputs": [
        {
          "output_type": "execute_result",
          "data": {
            "text/plain": [
              "E"
            ],
            "text/latex": "$\\displaystyle e$"
          },
          "metadata": {},
          "execution_count": 16
        }
      ]
    },
    {
      "cell_type": "code",
      "source": [
        "math.inf"
      ],
      "metadata": {
        "colab": {
          "base_uri": "https://localhost:8080/"
        },
        "id": "Jfag5hDTIZe5",
        "outputId": "221ca11e-6658-4056-ca98-6edcb367eef8"
      },
      "execution_count": null,
      "outputs": [
        {
          "output_type": "execute_result",
          "data": {
            "text/plain": [
              "inf"
            ]
          },
          "metadata": {},
          "execution_count": 105
        }
      ]
    },
    {
      "cell_type": "code",
      "source": [
        "sym.oo"
      ],
      "metadata": {
        "colab": {
          "base_uri": "https://localhost:8080/",
          "height": 37
        },
        "id": "t7P-jYl8IuxP",
        "outputId": "c92897ef-8383-4e64-b598-aa877051705d"
      },
      "execution_count": null,
      "outputs": [
        {
          "output_type": "execute_result",
          "data": {
            "text/plain": [
              "oo"
            ],
            "text/latex": "$\\displaystyle \\infty$"
          },
          "metadata": {},
          "execution_count": 106
        }
      ]
    },
    {
      "cell_type": "code",
      "source": [
        "x = sym.Symbol('x')\n",
        "y = sym.sin(x+1)/(x-1)\n",
        "y"
      ],
      "metadata": {
        "colab": {
          "base_uri": "https://localhost:8080/",
          "height": 54
        },
        "id": "ukIf_o86L3nu",
        "outputId": "6dc60185-15bd-48dd-8b04-337062b1f5f1"
      },
      "execution_count": null,
      "outputs": [
        {
          "output_type": "execute_result",
          "data": {
            "text/plain": [
              "sin(x + 1)/(x - 1)"
            ],
            "text/latex": "$\\displaystyle \\frac{\\sin{\\left(x + 1 \\right)}}{x - 1}$"
          },
          "metadata": {},
          "execution_count": 6
        }
      ]
    },
    {
      "cell_type": "code",
      "source": [
        "# Собственно определение предела функции\n",
        "sym.limit(y, x, math.inf) # или sym.oo"
      ],
      "metadata": {
        "colab": {
          "base_uri": "https://localhost:8080/",
          "height": 37
        },
        "id": "JOIuxKg1KzdU",
        "outputId": "4235eb7f-80f3-435b-d2b4-d9067c18cd6a"
      },
      "execution_count": null,
      "outputs": [
        {
          "output_type": "execute_result",
          "data": {
            "text/plain": [
              "0"
            ],
            "text/latex": "$\\displaystyle 0$"
          },
          "metadata": {},
          "execution_count": 7
        }
      ]
    },
    {
      "cell_type": "code",
      "source": [
        "81**-4"
      ],
      "metadata": {
        "colab": {
          "base_uri": "https://localhost:8080/"
        },
        "id": "EVonfZuBfsPo",
        "outputId": "0625fdf1-b184-4f3c-8394-485d3d298e94"
      },
      "execution_count": null,
      "outputs": [
        {
          "output_type": "execute_result",
          "data": {
            "text/plain": [
              "2.3230573125418773e-08"
            ]
          },
          "metadata": {},
          "execution_count": 121
        }
      ]
    },
    {
      "cell_type": "markdown",
      "source": [
        "**Дифференцирование функций нескольких переменных**"
      ],
      "metadata": {
        "id": "eqV5DRYZ34UB"
      }
    },
    {
      "cell_type": "code",
      "source": [
        "t1 = sym.Symbol('t1')\n",
        "t2 = sym.Symbol('t2')\n",
        "y = 5*t1**4+t1*7*t2-t2**7\n",
        "y"
      ],
      "metadata": {
        "colab": {
          "base_uri": "https://localhost:8080/",
          "height": 39
        },
        "id": "lsOZ460t2qMU",
        "outputId": "e6654e0c-3349-4655-c2c8-ad8b1d431711"
      },
      "execution_count": null,
      "outputs": [
        {
          "output_type": "execute_result",
          "data": {
            "text/plain": [
              "5*t1**4 + 7*t1*t2 - t2**7"
            ],
            "text/latex": "$\\displaystyle 5 t_{1}^{4} + 7 t_{1} t_{2} - t_{2}^{7}$"
          },
          "metadata": {},
          "execution_count": 12
        }
      ]
    },
    {
      "cell_type": "code",
      "source": [
        "t2_diff = sym.diff(5*t1**4+t1*7*t2-t2**7, t2)\n",
        "t2_diff"
      ],
      "metadata": {
        "colab": {
          "base_uri": "https://localhost:8080/",
          "height": 39
        },
        "id": "G0m7A2Eu3u-K",
        "outputId": "4f614e6d-c837-444e-9004-68af5e450137"
      },
      "execution_count": null,
      "outputs": [
        {
          "output_type": "execute_result",
          "data": {
            "text/plain": [
              "7*t1 - 7*t2**6"
            ],
            "text/latex": "$\\displaystyle 7 t_{1} - 7 t_{2}^{6}$"
          },
          "metadata": {},
          "execution_count": 13
        }
      ]
    },
    {
      "cell_type": "code",
      "source": [
        "t1_diff = sym.diff(5*t1**4+t1*7*t2-t2**7, t1)\n",
        "t1_diff"
      ],
      "metadata": {
        "colab": {
          "base_uri": "https://localhost:8080/",
          "height": 39
        },
        "id": "fRi4Cjvl4LvY",
        "outputId": "0209feb0-39c1-4b96-e2bc-57bd03a49920"
      },
      "execution_count": null,
      "outputs": [
        {
          "output_type": "execute_result",
          "data": {
            "text/plain": [
              "20*t1**3 + 7*t2"
            ],
            "text/latex": "$\\displaystyle 20 t_{1}^{3} + 7 t_{2}$"
          },
          "metadata": {},
          "execution_count": 14
        }
      ]
    },
    {
      "cell_type": "code",
      "source": [
        "d_vector = np.array([[t1_diff, t2_diff]])\n",
        "d_vector"
      ],
      "metadata": {
        "colab": {
          "base_uri": "https://localhost:8080/"
        },
        "id": "4lncpN964Qcc",
        "outputId": "2f4420de-3f14-4f39-fe89-e62cfb52cbb2"
      },
      "execution_count": null,
      "outputs": [
        {
          "output_type": "execute_result",
          "data": {
            "text/plain": [
              "array([[20*t1**3 + 7*t2, 7*t1 - 7*t2**6]], dtype=object)"
            ]
          },
          "metadata": {},
          "execution_count": 19
        }
      ]
    },
    {
      "cell_type": "code",
      "source": [
        "x = sym.Symbol('x')\n",
        "y = sym.Symbol('y')\n",
        "qw = sym.sin(-3*x) + sym.cos(2*y)\n",
        "qw"
      ],
      "metadata": {
        "colab": {
          "base_uri": "https://localhost:8080/",
          "height": 39
        },
        "id": "nC1CWuVHxokG",
        "outputId": "3b8c7cf8-0b28-4ae4-932b-b5841330a376"
      },
      "execution_count": null,
      "outputs": [
        {
          "output_type": "execute_result",
          "data": {
            "text/plain": [
              "-sin(3*x) + cos(2*y)"
            ],
            "text/latex": "$\\displaystyle - \\sin{\\left(3 x \\right)} + \\cos{\\left(2 y \\right)}$"
          },
          "metadata": {},
          "execution_count": 95
        }
      ]
    },
    {
      "cell_type": "code",
      "source": [
        "qw_2 = sym.diff(qw, y)\n",
        "qw_2"
      ],
      "metadata": {
        "colab": {
          "base_uri": "https://localhost:8080/",
          "height": 39
        },
        "id": "Y4MIJAq1D8es",
        "outputId": "15ee4af1-3fe1-4c67-c51b-223089a838da"
      },
      "execution_count": null,
      "outputs": [
        {
          "output_type": "execute_result",
          "data": {
            "text/plain": [
              "-2*sin(2*y)"
            ],
            "text/latex": "$\\displaystyle - 2 \\sin{\\left(2 y \\right)}$"
          },
          "metadata": {},
          "execution_count": 102
        }
      ]
    },
    {
      "cell_type": "code",
      "source": [
        "qw_3 = sym.diff(qw_2, y)\n",
        "qw_3"
      ],
      "metadata": {
        "colab": {
          "base_uri": "https://localhost:8080/",
          "height": 39
        },
        "id": "Rgdjuiq2LP5h",
        "outputId": "a2fa3a1d-7dde-4c70-bd30-36f633182c41"
      },
      "execution_count": null,
      "outputs": [
        {
          "output_type": "execute_result",
          "data": {
            "text/plain": [
              "-4*cos(2*y)"
            ],
            "text/latex": "$\\displaystyle - 4 \\cos{\\left(2 y \\right)}$"
          },
          "metadata": {},
          "execution_count": 103
        }
      ]
    },
    {
      "cell_type": "code",
      "source": [
        "a = sym.Symbol('a')\n",
        "b = sym.Symbol('b')\n",
        "x = sym.Symbol('x')\n",
        "e = sym.Symbol('e')\n",
        "we = e**a * sym.sin(b*x) + x\n",
        "we"
      ],
      "metadata": {
        "colab": {
          "base_uri": "https://localhost:8080/",
          "height": 39
        },
        "id": "_8c5pAgQ5K5O",
        "outputId": "7b935bd0-680c-4a37-99bc-de6720a6c8e9"
      },
      "execution_count": null,
      "outputs": [
        {
          "output_type": "execute_result",
          "data": {
            "text/plain": [
              "e**a*sin(b*x) + x"
            ],
            "text/latex": "$\\displaystyle e^{a} \\sin{\\left(b x \\right)} + x$"
          },
          "metadata": {},
          "execution_count": 12
        }
      ]
    }
  ]
}