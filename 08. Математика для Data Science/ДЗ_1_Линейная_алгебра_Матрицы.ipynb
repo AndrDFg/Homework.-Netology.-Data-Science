{
  "nbformat": 4,
  "nbformat_minor": 0,
  "metadata": {
    "colab": {
      "provenance": []
    },
    "kernelspec": {
      "name": "python3",
      "display_name": "Python 3"
    },
    "language_info": {
      "name": "python"
    }
  },
  "cells": [
    {
      "cell_type": "code",
      "execution_count": 1,
      "metadata": {
        "id": "kPK-gLzhhbFz"
      },
      "outputs": [],
      "source": [
        "import numpy as np"
      ]
    },
    {
      "cell_type": "markdown",
      "source": [
        "**Уровень 0:**\n",
        "\n",
        "**Задание 1**\n",
        "\n",
        "1.   Создайте матрицу 3 на 3, заполненную числами от 1 до 9\n",
        "2.   Прибавьте к ней матрицу с единицами на диагонале\n",
        "3.   Умножьте полученную матрицу на вектор (1, 2, 3)\n",
        "4.   Вычислить транспонированную матрицу от полученной в результате прибавления матр.\n",
        "5.   Посчитайте обратную матрицу к полученной в результате прибавления матрице\n",
        "\n",
        "\n",
        "\n"
      ],
      "metadata": {
        "id": "jk_0lOiyh9cW"
      }
    },
    {
      "cell_type": "code",
      "source": [
        "# 1.1\n",
        "matrix_tel = np.array([[1, 2, 3], [4, 5, 6], [7, 8, 9]])\n",
        "matrix_tel"
      ],
      "metadata": {
        "colab": {
          "base_uri": "https://localhost:8080/"
        },
        "id": "GdJF8TfNhlkV",
        "outputId": "a13319c4-a597-41b4-8c03-7ea43ee4ca90"
      },
      "execution_count": 4,
      "outputs": [
        {
          "output_type": "execute_result",
          "data": {
            "text/plain": [
              "array([[1, 2, 3],\n",
              "       [4, 5, 6],\n",
              "       [7, 8, 9]])"
            ]
          },
          "metadata": {},
          "execution_count": 4
        }
      ]
    },
    {
      "cell_type": "code",
      "source": [
        "# 1.2\n",
        "mat_1 = matrix_tel + np.eye(3)\n",
        "mat_1"
      ],
      "metadata": {
        "colab": {
          "base_uri": "https://localhost:8080/"
        },
        "id": "7yXLaLPUiMM0",
        "outputId": "75a3a68b-d0fc-4f6e-aadf-8679d5377d2e"
      },
      "execution_count": 11,
      "outputs": [
        {
          "output_type": "execute_result",
          "data": {
            "text/plain": [
              "array([[ 2.,  2.,  3.],\n",
              "       [ 4.,  6.,  6.],\n",
              "       [ 7.,  8., 10.]])"
            ]
          },
          "metadata": {},
          "execution_count": 11
        }
      ]
    },
    {
      "cell_type": "code",
      "source": [
        "# 1.3\n",
        "mat_2 = mat_1 * np.array([1, 2, 3])\n",
        "mat_2"
      ],
      "metadata": {
        "colab": {
          "base_uri": "https://localhost:8080/"
        },
        "id": "dyfAMAYKjUwW",
        "outputId": "1b6f5b73-5f1c-4f9f-b074-a8f66b53263c"
      },
      "execution_count": 15,
      "outputs": [
        {
          "output_type": "execute_result",
          "data": {
            "text/plain": [
              "array([[ 2.,  4.,  9.],\n",
              "       [ 4., 12., 18.],\n",
              "       [ 7., 16., 30.]])"
            ]
          },
          "metadata": {},
          "execution_count": 15
        }
      ]
    },
    {
      "cell_type": "code",
      "source": [
        "# 1.4\n",
        "mat_1T =  np.transpose(mat_1)\n",
        "mat_1T"
      ],
      "metadata": {
        "colab": {
          "base_uri": "https://localhost:8080/"
        },
        "id": "CUrRwLN4kAcz",
        "outputId": "ca0e6aee-1dea-4836-e523-7d5596aa3966"
      },
      "execution_count": 16,
      "outputs": [
        {
          "output_type": "execute_result",
          "data": {
            "text/plain": [
              "array([[ 2.,  4.,  7.],\n",
              "       [ 2.,  6.,  8.],\n",
              "       [ 3.,  6., 10.]])"
            ]
          },
          "metadata": {},
          "execution_count": 16
        }
      ]
    },
    {
      "cell_type": "code",
      "source": [
        "# 1.5\n",
        "mat_1_inv = np.linalg.inv(mat_1)\n",
        "mat_1_inv"
      ],
      "metadata": {
        "colab": {
          "base_uri": "https://localhost:8080/"
        },
        "id": "UvXP_piCkoIq",
        "outputId": "027b3644-e712-4f8a-ec6a-e66d4a1d128d"
      },
      "execution_count": 20,
      "outputs": [
        {
          "output_type": "execute_result",
          "data": {
            "text/plain": [
              "array([[-6.00000000e+00, -2.00000000e+00,  3.00000000e+00],\n",
              "       [-1.00000000e+00,  5.00000000e-01, -2.33146835e-16],\n",
              "       [ 5.00000000e+00,  1.00000000e+00, -2.00000000e+00]])"
            ]
          },
          "metadata": {},
          "execution_count": 20
        }
      ]
    },
    {
      "cell_type": "code",
      "source": [
        "# Проверка\n",
        "mat_1_inv @ mat_1"
      ],
      "metadata": {
        "colab": {
          "base_uri": "https://localhost:8080/"
        },
        "id": "kt_4KTIoldE8",
        "outputId": "85c39b20-0f6b-4bc9-d229-e599ec993a25"
      },
      "execution_count": 19,
      "outputs": [
        {
          "output_type": "execute_result",
          "data": {
            "text/plain": [
              "array([[ 1.00000000e+00,  0.00000000e+00,  3.55271368e-15],\n",
              "       [-7.77156117e-17,  1.00000000e+00,  1.11022302e-16],\n",
              "       [ 6.66133815e-16,  0.00000000e+00,  1.00000000e+00]])"
            ]
          },
          "metadata": {},
          "execution_count": 19
        }
      ]
    },
    {
      "cell_type": "markdown",
      "source": [
        "**Уровень 1:**\n",
        "\n",
        "**Задание 2**\n",
        "\n",
        "Найдите собственные значения и собственные вектора матрицы:"
      ],
      "metadata": {
        "id": "HiyrRCHsmgMm"
      }
    },
    {
      "cell_type": "code",
      "source": [
        "m = np.array([[2, 2],\n",
        "              [1, 3]])\n",
        "print(m)"
      ],
      "metadata": {
        "colab": {
          "base_uri": "https://localhost:8080/"
        },
        "id": "osHW1OG9mcp_",
        "outputId": "afe5a060-f8ae-494f-e447-a2aafe2e28e3"
      },
      "execution_count": 21,
      "outputs": [
        {
          "output_type": "stream",
          "name": "stdout",
          "text": [
            "[[2 2]\n",
            " [1 3]]\n"
          ]
        }
      ]
    },
    {
      "cell_type": "code",
      "source": [
        "res_m = np.linalg.eig(m)\n",
        "\n",
        "print(f'Cобственные значения матрицы: {res_m[0]}')\n",
        "\n",
        "np.transpose(res_m[1])\n",
        "vec_1 = np.transpose(res_m[1])[0] / np.transpose(res_m[1])[0][-1]\n",
        "vec_2 = np.transpose(res_m[1])[1] / np.transpose(res_m[1])[1][-1]\n",
        "\n",
        "print(f'Собственные вектора матрицы:{vec_1} и {vec_2}')"
      ],
      "metadata": {
        "colab": {
          "base_uri": "https://localhost:8080/"
        },
        "id": "aKfhREwOmvEy",
        "outputId": "fe7d907d-a6c3-4d00-ca88-3d621f24e389"
      },
      "execution_count": 44,
      "outputs": [
        {
          "output_type": "stream",
          "name": "stdout",
          "text": [
            "Cобственные значения матрицы: [1. 4.]\n",
            "Собственные вектора матрицы:[-2.  1.] и [1. 1.]\n"
          ]
        }
      ]
    }
  ]
}