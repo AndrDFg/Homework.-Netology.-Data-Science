{
  "nbformat": 4,
  "nbformat_minor": 0,
  "metadata": {
    "colab": {
      "provenance": [],
      "gpuType": "T4"
    },
    "kernelspec": {
      "name": "python3",
      "display_name": "Python 3"
    },
    "language_info": {
      "name": "python"
    },
    "accelerator": "GPU"
  },
  "cells": [
    {
      "cell_type": "code",
      "source": [
        "import numpy as np\n",
        "import tensorflow as tf\n",
        "import keras\n",
        "from keras.datasets import cifar10\n",
        "from sklearn.model_selection import train_test_split"
      ],
      "metadata": {
        "id": "01XfUoxzr5Yz"
      },
      "execution_count": 58,
      "outputs": []
    },
    {
      "cell_type": "code",
      "source": [
        "!nvidia-smi"
      ],
      "metadata": {
        "colab": {
          "base_uri": "https://localhost:8080/"
        },
        "id": "Y9WuvKzt4Loe",
        "outputId": "db11641c-2298-4393-d516-caf18be07fff"
      },
      "execution_count": 59,
      "outputs": [
        {
          "output_type": "stream",
          "name": "stdout",
          "text": [
            "Sun Apr  6 16:49:13 2025       \n",
            "+-----------------------------------------------------------------------------------------+\n",
            "| NVIDIA-SMI 550.54.15              Driver Version: 550.54.15      CUDA Version: 12.4     |\n",
            "|-----------------------------------------+------------------------+----------------------+\n",
            "| GPU  Name                 Persistence-M | Bus-Id          Disp.A | Volatile Uncorr. ECC |\n",
            "| Fan  Temp   Perf          Pwr:Usage/Cap |           Memory-Usage | GPU-Util  Compute M. |\n",
            "|                                         |                        |               MIG M. |\n",
            "|=========================================+========================+======================|\n",
            "|   0  Tesla T4                       Off |   00000000:00:04.0 Off |                    0 |\n",
            "| N/A   75C    P0             34W /   70W |    1158MiB /  15360MiB |      0%      Default |\n",
            "|                                         |                        |                  N/A |\n",
            "+-----------------------------------------+------------------------+----------------------+\n",
            "                                                                                         \n",
            "+-----------------------------------------------------------------------------------------+\n",
            "| Processes:                                                                              |\n",
            "|  GPU   GI   CI        PID   Type   Process name                              GPU Memory |\n",
            "|        ID   ID                                                               Usage      |\n",
            "|=========================================================================================|\n",
            "+-----------------------------------------------------------------------------------------+\n"
          ]
        }
      ]
    },
    {
      "cell_type": "markdown",
      "source": [
        "## Подготовка дянных"
      ],
      "metadata": {
        "id": "w44u9ggGwOv9"
      }
    },
    {
      "cell_type": "code",
      "source": [
        "(X_train, y_train), (X_test, y_test) = cifar10.load_data()"
      ],
      "metadata": {
        "id": "cyaJYPLStcPg"
      },
      "execution_count": 60,
      "outputs": []
    },
    {
      "cell_type": "markdown",
      "source": [],
      "metadata": {
        "id": "AyonJd_-mgaq"
      }
    },
    {
      "cell_type": "code",
      "source": [
        "# Сплит на обучающие и валидационные выборки\n",
        "X_train, X_val, y_train, y_val = train_test_split(X_train, y_train, test_size=0.2, random_state=1982)"
      ],
      "metadata": {
        "id": "2JIE52Z5r63B"
      },
      "execution_count": 61,
      "outputs": []
    },
    {
      "cell_type": "code",
      "source": [
        "X_train[20000]"
      ],
      "metadata": {
        "colab": {
          "base_uri": "https://localhost:8080/",
          "height": 72
        },
        "id": "OK1foBH30cHG",
        "outputId": "fdaf3467-5b4b-4be8-c198-929f3dea6da7"
      },
      "execution_count": 62,
      "outputs": [
        {
          "output_type": "execute_result",
          "data": {
            "text/plain": [
              "array([[[ 24,  17,   9],\n",
              "        [ 16,  12,   7],\n",
              "        [ 24,  22,  12],\n",
              "        ...,\n",
              "        [205, 220, 238],\n",
              "        [204, 221, 240],\n",
              "        [207, 217, 229]],\n",
              "\n",
              "       [[ 14,  13,   9],\n",
              "        [  4,   9,  12],\n",
              "        [  2,  10,   4],\n",
              "        ...,\n",
              "        [209, 224, 254],\n",
              "        [207, 225, 255],\n",
              "        [205, 223, 246]],\n",
              "\n",
              "       [[ 27,  27,  16],\n",
              "        [ 19,  25,  24],\n",
              "        [  7,   9,   5],\n",
              "        ...,\n",
              "        [207, 228, 251],\n",
              "        [207, 228, 253],\n",
              "        [211, 222, 243]],\n",
              "\n",
              "       ...,\n",
              "\n",
              "       [[189, 173, 117],\n",
              "        [190, 174, 119],\n",
              "        [196, 176, 124],\n",
              "        ...,\n",
              "        [155, 139, 102],\n",
              "        [185, 167, 129],\n",
              "        [208, 186, 137]],\n",
              "\n",
              "       [[200, 180, 135],\n",
              "        [197, 183, 132],\n",
              "        [201, 182, 133],\n",
              "        ...,\n",
              "        [178, 160, 119],\n",
              "        [186, 167, 127],\n",
              "        [204, 180, 132]],\n",
              "\n",
              "       [[192, 173, 113],\n",
              "        [195, 180, 120],\n",
              "        [202, 182, 127],\n",
              "        ...,\n",
              "        [220, 190, 137],\n",
              "        [221, 191, 139],\n",
              "        [222, 189, 128]]], dtype=uint8)"
            ],
            "text/html": [
              "<style>\n",
              "      .ndarray_repr .ndarray_raw_data {\n",
              "        display: none;\n",
              "      }\n",
              "      .ndarray_repr.show_array .ndarray_raw_data {\n",
              "        display: block;\n",
              "      }\n",
              "      .ndarray_repr.show_array .ndarray_image_preview {\n",
              "        display: none;\n",
              "      }\n",
              "      </style>\n",
              "      <div id=\"id-473f91eb-75b2-4f2a-bcd7-09b17d4c135d\" class=\"ndarray_repr\"><pre>ndarray (32, 32, 3) <button style=\"padding: 0 2px;\">show data</button></pre><img src=\"data:image/png;base64,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\" class=\"ndarray_image_preview\" /><pre class=\"ndarray_raw_data\">array([[[ 24,  17,   9],\n",
              "        [ 16,  12,   7],\n",
              "        [ 24,  22,  12],\n",
              "        ...,\n",
              "        [205, 220, 238],\n",
              "        [204, 221, 240],\n",
              "        [207, 217, 229]],\n",
              "\n",
              "       [[ 14,  13,   9],\n",
              "        [  4,   9,  12],\n",
              "        [  2,  10,   4],\n",
              "        ...,\n",
              "        [209, 224, 254],\n",
              "        [207, 225, 255],\n",
              "        [205, 223, 246]],\n",
              "\n",
              "       [[ 27,  27,  16],\n",
              "        [ 19,  25,  24],\n",
              "        [  7,   9,   5],\n",
              "        ...,\n",
              "        [207, 228, 251],\n",
              "        [207, 228, 253],\n",
              "        [211, 222, 243]],\n",
              "\n",
              "       ...,\n",
              "\n",
              "       [[189, 173, 117],\n",
              "        [190, 174, 119],\n",
              "        [196, 176, 124],\n",
              "        ...,\n",
              "        [155, 139, 102],\n",
              "        [185, 167, 129],\n",
              "        [208, 186, 137]],\n",
              "\n",
              "       [[200, 180, 135],\n",
              "        [197, 183, 132],\n",
              "        [201, 182, 133],\n",
              "        ...,\n",
              "        [178, 160, 119],\n",
              "        [186, 167, 127],\n",
              "        [204, 180, 132]],\n",
              "\n",
              "       [[192, 173, 113],\n",
              "        [195, 180, 120],\n",
              "        [202, 182, 127],\n",
              "        ...,\n",
              "        [220, 190, 137],\n",
              "        [221, 191, 139],\n",
              "        [222, 189, 128]]], dtype=uint8)</pre></div><script>\n",
              "      (() => {\n",
              "      const titles = ['show data', 'hide data'];\n",
              "      let index = 0\n",
              "      document.querySelector('#id-473f91eb-75b2-4f2a-bcd7-09b17d4c135d button').onclick = (e) => {\n",
              "        document.querySelector('#id-473f91eb-75b2-4f2a-bcd7-09b17d4c135d').classList.toggle('show_array');\n",
              "        index = (++index) % 2;\n",
              "        document.querySelector('#id-473f91eb-75b2-4f2a-bcd7-09b17d4c135d button').textContent = titles[index];\n",
              "        e.preventDefault();\n",
              "        e.stopPropagation();\n",
              "      }\n",
              "      })();\n",
              "    </script>"
            ]
          },
          "metadata": {},
          "execution_count": 62
        }
      ]
    },
    {
      "cell_type": "code",
      "source": [
        "y_train[1:5]"
      ],
      "metadata": {
        "colab": {
          "base_uri": "https://localhost:8080/"
        },
        "id": "o2VsIHcIVOMV",
        "outputId": "1d9de42a-201c-44b8-ec2d-02a27de1cbb6"
      },
      "execution_count": 63,
      "outputs": [
        {
          "output_type": "execute_result",
          "data": {
            "text/plain": [
              "array([[0],\n",
              "       [1],\n",
              "       [2],\n",
              "       [7]], dtype=uint8)"
            ]
          },
          "metadata": {},
          "execution_count": 63
        }
      ]
    },
    {
      "cell_type": "code",
      "source": [
        "# Нормализация данных\n",
        "X_train = X_train / 255\n",
        "X_val = X_val / 255\n",
        "X_test = X_test / 255"
      ],
      "metadata": {
        "id": "rZzU2m00tD8O"
      },
      "execution_count": 64,
      "outputs": []
    },
    {
      "cell_type": "code",
      "source": [
        "class_names = np.array(['airplane', 'automobile', 'bird', 'cat', 'deer', 'dog', 'frog', 'horse', 'ship', 'truck'])"
      ],
      "metadata": {
        "id": "0KsuOd6NuFtG"
      },
      "execution_count": 65,
      "outputs": []
    },
    {
      "cell_type": "code",
      "source": [
        "X_train.shape"
      ],
      "metadata": {
        "colab": {
          "base_uri": "https://localhost:8080/"
        },
        "id": "ZqAz18_s6EHV",
        "outputId": "91c0dc0e-882f-47d1-9118-908522677f40"
      },
      "execution_count": 66,
      "outputs": [
        {
          "output_type": "execute_result",
          "data": {
            "text/plain": [
              "(40000, 32, 32, 3)"
            ]
          },
          "metadata": {},
          "execution_count": 66
        }
      ]
    },
    {
      "cell_type": "code",
      "source": [
        "X_train.shape[1:]"
      ],
      "metadata": {
        "colab": {
          "base_uri": "https://localhost:8080/"
        },
        "id": "H0iratJS51lG",
        "outputId": "64129a1d-e0df-46dc-bea2-0ef167624f54"
      },
      "execution_count": 67,
      "outputs": [
        {
          "output_type": "execute_result",
          "data": {
            "text/plain": [
              "(32, 32, 3)"
            ]
          },
          "metadata": {},
          "execution_count": 67
        }
      ]
    },
    {
      "cell_type": "markdown",
      "source": [
        "## Задание 1.1\n",
        "минимизировать многоклассовую кроссэкнропию с помощью sgd. Вам нужно получить сеть, которая достигнет не менее 45% accuracy на тестовых данных."
      ],
      "metadata": {
        "id": "yQLhTzVEwJ2f"
      }
    },
    {
      "cell_type": "code",
      "source": [
        "# Архитектура\n",
        "model = tf.keras.models.Sequential([\n",
        "    tf.keras.layers.Flatten(input_shape=X_train.shape[1:]),\n",
        "    tf.keras.layers.Dense(256, activation='relu'),\n",
        "    tf.keras.layers.Dense(128, activation='relu'),\n",
        "    tf.keras.layers.Dense(64, activation='relu'),\n",
        "    tf.keras.layers.Dense(10, activation='softmax')\n",
        "])\n",
        "\n",
        "model.summary()"
      ],
      "metadata": {
        "colab": {
          "base_uri": "https://localhost:8080/",
          "height": 361
        },
        "id": "ooGBxAEimd8A",
        "outputId": "f2aaa614-651c-4272-a640-552f5ca0053d"
      },
      "execution_count": 68,
      "outputs": [
        {
          "output_type": "stream",
          "name": "stderr",
          "text": [
            "/usr/local/lib/python3.11/dist-packages/keras/src/layers/reshaping/flatten.py:37: UserWarning: Do not pass an `input_shape`/`input_dim` argument to a layer. When using Sequential models, prefer using an `Input(shape)` object as the first layer in the model instead.\n",
            "  super().__init__(**kwargs)\n"
          ]
        },
        {
          "output_type": "display_data",
          "data": {
            "text/plain": [
              "\u001b[1mModel: \"sequential_3\"\u001b[0m\n"
            ],
            "text/html": [
              "<pre style=\"white-space:pre;overflow-x:auto;line-height:normal;font-family:Menlo,'DejaVu Sans Mono',consolas,'Courier New',monospace\"><span style=\"font-weight: bold\">Model: \"sequential_3\"</span>\n",
              "</pre>\n"
            ]
          },
          "metadata": {}
        },
        {
          "output_type": "display_data",
          "data": {
            "text/plain": [
              "┏━━━━━━━━━━━━━━━━━━━━━━━━━━━━━━━━━━━━━━┳━━━━━━━━━━━━━━━━━━━━━━━━━━━━━┳━━━━━━━━━━━━━━━━━┓\n",
              "┃\u001b[1m \u001b[0m\u001b[1mLayer (type)                        \u001b[0m\u001b[1m \u001b[0m┃\u001b[1m \u001b[0m\u001b[1mOutput Shape               \u001b[0m\u001b[1m \u001b[0m┃\u001b[1m \u001b[0m\u001b[1m        Param #\u001b[0m\u001b[1m \u001b[0m┃\n",
              "┡━━━━━━━━━━━━━━━━━━━━━━━━━━━━━━━━━━━━━━╇━━━━━━━━━━━━━━━━━━━━━━━━━━━━━╇━━━━━━━━━━━━━━━━━┩\n",
              "│ flatten_3 (\u001b[38;5;33mFlatten\u001b[0m)                  │ (\u001b[38;5;45mNone\u001b[0m, \u001b[38;5;34m3072\u001b[0m)                │               \u001b[38;5;34m0\u001b[0m │\n",
              "├──────────────────────────────────────┼─────────────────────────────┼─────────────────┤\n",
              "│ dense_9 (\u001b[38;5;33mDense\u001b[0m)                      │ (\u001b[38;5;45mNone\u001b[0m, \u001b[38;5;34m256\u001b[0m)                 │         \u001b[38;5;34m786,688\u001b[0m │\n",
              "├──────────────────────────────────────┼─────────────────────────────┼─────────────────┤\n",
              "│ dense_10 (\u001b[38;5;33mDense\u001b[0m)                     │ (\u001b[38;5;45mNone\u001b[0m, \u001b[38;5;34m128\u001b[0m)                 │          \u001b[38;5;34m32,896\u001b[0m │\n",
              "├──────────────────────────────────────┼─────────────────────────────┼─────────────────┤\n",
              "│ dense_11 (\u001b[38;5;33mDense\u001b[0m)                     │ (\u001b[38;5;45mNone\u001b[0m, \u001b[38;5;34m64\u001b[0m)                  │           \u001b[38;5;34m8,256\u001b[0m │\n",
              "├──────────────────────────────────────┼─────────────────────────────┼─────────────────┤\n",
              "│ dense_12 (\u001b[38;5;33mDense\u001b[0m)                     │ (\u001b[38;5;45mNone\u001b[0m, \u001b[38;5;34m10\u001b[0m)                  │             \u001b[38;5;34m650\u001b[0m │\n",
              "└──────────────────────────────────────┴─────────────────────────────┴─────────────────┘\n"
            ],
            "text/html": [
              "<pre style=\"white-space:pre;overflow-x:auto;line-height:normal;font-family:Menlo,'DejaVu Sans Mono',consolas,'Courier New',monospace\">┏━━━━━━━━━━━━━━━━━━━━━━━━━━━━━━━━━━━━━━┳━━━━━━━━━━━━━━━━━━━━━━━━━━━━━┳━━━━━━━━━━━━━━━━━┓\n",
              "┃<span style=\"font-weight: bold\"> Layer (type)                         </span>┃<span style=\"font-weight: bold\"> Output Shape                </span>┃<span style=\"font-weight: bold\">         Param # </span>┃\n",
              "┡━━━━━━━━━━━━━━━━━━━━━━━━━━━━━━━━━━━━━━╇━━━━━━━━━━━━━━━━━━━━━━━━━━━━━╇━━━━━━━━━━━━━━━━━┩\n",
              "│ flatten_3 (<span style=\"color: #0087ff; text-decoration-color: #0087ff\">Flatten</span>)                  │ (<span style=\"color: #00d7ff; text-decoration-color: #00d7ff\">None</span>, <span style=\"color: #00af00; text-decoration-color: #00af00\">3072</span>)                │               <span style=\"color: #00af00; text-decoration-color: #00af00\">0</span> │\n",
              "├──────────────────────────────────────┼─────────────────────────────┼─────────────────┤\n",
              "│ dense_9 (<span style=\"color: #0087ff; text-decoration-color: #0087ff\">Dense</span>)                      │ (<span style=\"color: #00d7ff; text-decoration-color: #00d7ff\">None</span>, <span style=\"color: #00af00; text-decoration-color: #00af00\">256</span>)                 │         <span style=\"color: #00af00; text-decoration-color: #00af00\">786,688</span> │\n",
              "├──────────────────────────────────────┼─────────────────────────────┼─────────────────┤\n",
              "│ dense_10 (<span style=\"color: #0087ff; text-decoration-color: #0087ff\">Dense</span>)                     │ (<span style=\"color: #00d7ff; text-decoration-color: #00d7ff\">None</span>, <span style=\"color: #00af00; text-decoration-color: #00af00\">128</span>)                 │          <span style=\"color: #00af00; text-decoration-color: #00af00\">32,896</span> │\n",
              "├──────────────────────────────────────┼─────────────────────────────┼─────────────────┤\n",
              "│ dense_11 (<span style=\"color: #0087ff; text-decoration-color: #0087ff\">Dense</span>)                     │ (<span style=\"color: #00d7ff; text-decoration-color: #00d7ff\">None</span>, <span style=\"color: #00af00; text-decoration-color: #00af00\">64</span>)                  │           <span style=\"color: #00af00; text-decoration-color: #00af00\">8,256</span> │\n",
              "├──────────────────────────────────────┼─────────────────────────────┼─────────────────┤\n",
              "│ dense_12 (<span style=\"color: #0087ff; text-decoration-color: #0087ff\">Dense</span>)                     │ (<span style=\"color: #00d7ff; text-decoration-color: #00d7ff\">None</span>, <span style=\"color: #00af00; text-decoration-color: #00af00\">10</span>)                  │             <span style=\"color: #00af00; text-decoration-color: #00af00\">650</span> │\n",
              "└──────────────────────────────────────┴─────────────────────────────┴─────────────────┘\n",
              "</pre>\n"
            ]
          },
          "metadata": {}
        },
        {
          "output_type": "display_data",
          "data": {
            "text/plain": [
              "\u001b[1m Total params: \u001b[0m\u001b[38;5;34m828,490\u001b[0m (3.16 MB)\n"
            ],
            "text/html": [
              "<pre style=\"white-space:pre;overflow-x:auto;line-height:normal;font-family:Menlo,'DejaVu Sans Mono',consolas,'Courier New',monospace\"><span style=\"font-weight: bold\"> Total params: </span><span style=\"color: #00af00; text-decoration-color: #00af00\">828,490</span> (3.16 MB)\n",
              "</pre>\n"
            ]
          },
          "metadata": {}
        },
        {
          "output_type": "display_data",
          "data": {
            "text/plain": [
              "\u001b[1m Trainable params: \u001b[0m\u001b[38;5;34m828,490\u001b[0m (3.16 MB)\n"
            ],
            "text/html": [
              "<pre style=\"white-space:pre;overflow-x:auto;line-height:normal;font-family:Menlo,'DejaVu Sans Mono',consolas,'Courier New',monospace\"><span style=\"font-weight: bold\"> Trainable params: </span><span style=\"color: #00af00; text-decoration-color: #00af00\">828,490</span> (3.16 MB)\n",
              "</pre>\n"
            ]
          },
          "metadata": {}
        },
        {
          "output_type": "display_data",
          "data": {
            "text/plain": [
              "\u001b[1m Non-trainable params: \u001b[0m\u001b[38;5;34m0\u001b[0m (0.00 B)\n"
            ],
            "text/html": [
              "<pre style=\"white-space:pre;overflow-x:auto;line-height:normal;font-family:Menlo,'DejaVu Sans Mono',consolas,'Courier New',monospace\"><span style=\"font-weight: bold\"> Non-trainable params: </span><span style=\"color: #00af00; text-decoration-color: #00af00\">0</span> (0.00 B)\n",
              "</pre>\n"
            ]
          },
          "metadata": {}
        }
      ]
    },
    {
      "cell_type": "code",
      "source": [
        "# конвертация меток в one-hot формат\n",
        "y_train, y_val = (keras.utils.to_categorical(y) for y in (y_train, y_val))"
      ],
      "metadata": {
        "id": "5_5W7sHWm2bb"
      },
      "execution_count": 69,
      "outputs": []
    },
    {
      "cell_type": "code",
      "source": [
        "y_val"
      ],
      "metadata": {
        "colab": {
          "base_uri": "https://localhost:8080/"
        },
        "id": "myTO87dHas9a",
        "outputId": "b434779d-1e1b-4d90-b127-cf3623b713c4"
      },
      "execution_count": 70,
      "outputs": [
        {
          "output_type": "execute_result",
          "data": {
            "text/plain": [
              "array([[0., 0., 0., ..., 0., 0., 0.],\n",
              "       [1., 0., 0., ..., 0., 0., 0.],\n",
              "       [0., 0., 0., ..., 0., 0., 1.],\n",
              "       ...,\n",
              "       [0., 0., 0., ..., 0., 0., 0.],\n",
              "       [0., 0., 0., ..., 0., 0., 0.],\n",
              "       [0., 1., 0., ..., 0., 0., 0.]])"
            ]
          },
          "metadata": {},
          "execution_count": 70
        }
      ]
    },
    {
      "cell_type": "code",
      "source": [
        "callbacks = tf.keras.callbacks.EarlyStopping(monitor='val_loss', min_delta=0, patience=3)\n",
        "\n",
        "\"\"\"\n",
        "callbacks = [\n",
        "    tf.keras.callbacks.ModelCheckpoint(filepath='model.{epoch:02d}-{val_loss:.2f}.keras'),\n",
        "    tf.keras.callbacks.TensorBoard(log_dir='./logs'),\n",
        "    tf.keras.callbacks.EarlyStopping(patience=3)\n",
        "]\n",
        "\"\"\""
      ],
      "metadata": {
        "colab": {
          "base_uri": "https://localhost:8080/",
          "height": 35
        },
        "id": "umjorX0-s5JQ",
        "outputId": "463cbc0d-68c3-4091-d501-efa83fcfba40"
      },
      "execution_count": 71,
      "outputs": [
        {
          "output_type": "execute_result",
          "data": {
            "text/plain": [
              "\"\\ncallbacks = [\\n    tf.keras.callbacks.ModelCheckpoint(filepath='model.{epoch:02d}-{val_loss:.2f}.keras'),\\n    tf.keras.callbacks.TensorBoard(log_dir='./logs'),\\n    tf.keras.callbacks.EarlyStopping(patience=3)\\n]\\n\""
            ],
            "application/vnd.google.colaboratory.intrinsic+json": {
              "type": "string"
            }
          },
          "metadata": {},
          "execution_count": 71
        }
      ]
    },
    {
      "cell_type": "code",
      "source": [
        "# Определение переменной metrics\n",
        "metrics = [#keras.metrics.FalseNegatives(name='FN'),\n",
        "           #keras.metrics.FalsePositives(name='FP'),\n",
        "           keras.metrics.Recall(name='recall'),\n",
        "           keras.metrics.F1Score(name='F1Score')]"
      ],
      "metadata": {
        "id": "wBfg5rgxs7Bw"
      },
      "execution_count": 72,
      "outputs": []
    },
    {
      "cell_type": "code",
      "execution_count": 73,
      "metadata": {
        "colab": {
          "base_uri": "https://localhost:8080/"
        },
        "id": "TbcaEsPLVv_O",
        "outputId": "a3606fe6-d3b4-4153-a98f-eb421f008b31"
      },
      "outputs": [
        {
          "output_type": "stream",
          "name": "stdout",
          "text": [
            "Epoch 1/16\n",
            "\u001b[1m625/625\u001b[0m \u001b[32m━━━━━━━━━━━━━━━━━━━━\u001b[0m\u001b[37m\u001b[0m \u001b[1m7s\u001b[0m 7ms/step - F1Score: 0.2456 - loss: 2.0371 - recall: 0.0287 - val_F1Score: 0.3755 - val_loss: 1.7437 - val_recall: 0.0911\n",
            "Epoch 2/16\n",
            "\u001b[1m625/625\u001b[0m \u001b[32m━━━━━━━━━━━━━━━━━━━━\u001b[0m\u001b[37m\u001b[0m \u001b[1m8s\u001b[0m 4ms/step - F1Score: 0.3660 - loss: 1.7466 - recall: 0.1133 - val_F1Score: 0.3901 - val_loss: 1.6601 - val_recall: 0.1735\n",
            "Epoch 3/16\n",
            "\u001b[1m625/625\u001b[0m \u001b[32m━━━━━━━━━━━━━━━━━━━━\u001b[0m\u001b[37m\u001b[0m \u001b[1m3s\u001b[0m 5ms/step - F1Score: 0.4022 - loss: 1.6469 - recall: 0.1659 - val_F1Score: 0.4210 - val_loss: 1.6192 - val_recall: 0.1482\n",
            "Epoch 4/16\n",
            "\u001b[1m625/625\u001b[0m \u001b[32m━━━━━━━━━━━━━━━━━━━━\u001b[0m\u001b[37m\u001b[0m \u001b[1m4s\u001b[0m 4ms/step - F1Score: 0.4177 - loss: 1.5887 - recall: 0.1863 - val_F1Score: 0.4086 - val_loss: 1.6025 - val_recall: 0.1994\n",
            "Epoch 5/16\n",
            "\u001b[1m625/625\u001b[0m \u001b[32m━━━━━━━━━━━━━━━━━━━━\u001b[0m\u001b[37m\u001b[0m \u001b[1m2s\u001b[0m 4ms/step - F1Score: 0.4366 - loss: 1.5550 - recall: 0.2084 - val_F1Score: 0.4372 - val_loss: 1.5413 - val_recall: 0.2165\n",
            "Epoch 6/16\n",
            "\u001b[1m625/625\u001b[0m \u001b[32m━━━━━━━━━━━━━━━━━━━━\u001b[0m\u001b[37m\u001b[0m \u001b[1m3s\u001b[0m 4ms/step - F1Score: 0.4585 - loss: 1.5068 - recall: 0.2335 - val_F1Score: 0.4024 - val_loss: 1.6064 - val_recall: 0.2244\n",
            "Epoch 7/16\n",
            "\u001b[1m625/625\u001b[0m \u001b[32m━━━━━━━━━━━━━━━━━━━━\u001b[0m\u001b[37m\u001b[0m \u001b[1m3s\u001b[0m 5ms/step - F1Score: 0.4706 - loss: 1.4720 - recall: 0.2517 - val_F1Score: 0.4480 - val_loss: 1.5142 - val_recall: 0.2378\n",
            "Epoch 8/16\n",
            "\u001b[1m625/625\u001b[0m \u001b[32m━━━━━━━━━━━━━━━━━━━━\u001b[0m\u001b[37m\u001b[0m \u001b[1m4s\u001b[0m 4ms/step - F1Score: 0.4782 - loss: 1.4497 - recall: 0.2661 - val_F1Score: 0.4614 - val_loss: 1.5130 - val_recall: 0.2466\n",
            "Epoch 9/16\n",
            "\u001b[1m625/625\u001b[0m \u001b[32m━━━━━━━━━━━━━━━━━━━━\u001b[0m\u001b[37m\u001b[0m \u001b[1m3s\u001b[0m 4ms/step - F1Score: 0.4867 - loss: 1.4323 - recall: 0.2743 - val_F1Score: 0.4544 - val_loss: 1.4994 - val_recall: 0.2727\n",
            "Epoch 10/16\n",
            "\u001b[1m625/625\u001b[0m \u001b[32m━━━━━━━━━━━━━━━━━━━━\u001b[0m\u001b[37m\u001b[0m \u001b[1m6s\u001b[0m 5ms/step - F1Score: 0.4906 - loss: 1.4184 - recall: 0.2825 - val_F1Score: 0.4673 - val_loss: 1.4743 - val_recall: 0.2743\n",
            "Epoch 11/16\n",
            "\u001b[1m625/625\u001b[0m \u001b[32m━━━━━━━━━━━━━━━━━━━━\u001b[0m\u001b[37m\u001b[0m \u001b[1m3s\u001b[0m 4ms/step - F1Score: 0.4976 - loss: 1.3906 - recall: 0.2910 - val_F1Score: 0.4554 - val_loss: 1.5108 - val_recall: 0.2644\n",
            "Epoch 12/16\n",
            "\u001b[1m625/625\u001b[0m \u001b[32m━━━━━━━━━━━━━━━━━━━━\u001b[0m\u001b[37m\u001b[0m \u001b[1m5s\u001b[0m 4ms/step - F1Score: 0.5089 - loss: 1.3648 - recall: 0.3079 - val_F1Score: 0.4740 - val_loss: 1.4830 - val_recall: 0.2530\n",
            "Epoch 13/16\n",
            "\u001b[1m625/625\u001b[0m \u001b[32m━━━━━━━━━━━━━━━━━━━━\u001b[0m\u001b[37m\u001b[0m \u001b[1m3s\u001b[0m 4ms/step - F1Score: 0.5143 - loss: 1.3565 - recall: 0.3121 - val_F1Score: 0.4663 - val_loss: 1.4897 - val_recall: 0.2935\n"
          ]
        },
        {
          "output_type": "execute_result",
          "data": {
            "text/plain": [
              "<keras.src.callbacks.history.History at 0x7efe2b3b2050>"
            ]
          },
          "metadata": {},
          "execution_count": 73
        }
      ],
      "source": [
        "model.compile(\n",
        "    optimizer=keras.optimizers.Adam(0.001),\n",
        "    loss=\"categorical_crossentropy\",\n",
        "    metrics=metrics\n",
        ")\n",
        "\n",
        "# Обучение\n",
        "model.fit(X_train, y_train, batch_size=64, epochs=16, callbacks=callbacks, validation_data=(X_val, y_val))"
      ]
    },
    {
      "cell_type": "code",
      "source": [
        "from sklearn.metrics import accuracy_score\n",
        "\n",
        "predict_x=model.predict(X_test)\n",
        "classes_x=np.argmax(predict_x,axis=1)\n",
        "\n",
        "test_acc = accuracy_score(y_test, classes_x)\n",
        "print(\"\\n Test_acc =\", test_acc)\n",
        "assert test_acc > 0.45, \"Not good enough. Back to the drawing board :)\"\n",
        "print(\" Not bad!\")"
      ],
      "metadata": {
        "colab": {
          "base_uri": "https://localhost:8080/"
        },
        "id": "KO2CnC4v3Nx7",
        "outputId": "68d42fdc-d45a-499a-aeca-9b8adc6ebb83"
      },
      "execution_count": 74,
      "outputs": [
        {
          "output_type": "stream",
          "name": "stdout",
          "text": [
            "\u001b[1m313/313\u001b[0m \u001b[32m━━━━━━━━━━━━━━━━━━━━\u001b[0m\u001b[37m\u001b[0m \u001b[1m1s\u001b[0m 2ms/step\n",
            "\n",
            " Test_acc = 0.4811\n",
            " Not bad!\n"
          ]
        }
      ]
    },
    {
      "cell_type": "markdown",
      "metadata": {
        "id": "cm_SvVrqxjen"
      },
      "source": [
        "## **Задание 1.2**\n",
        "Карманная сверточная сеть\n",
        "\n",
        "Реализуйте небольшую свёрточную сеть. Совсем небольшую:\n",
        "1. Входной слой\n",
        "2. Свёртка 3x3 с 10 фильтрами\n",
        "3. Нелинейность на ваш вкус\n",
        "4. Max-pooling 2x2\n",
        "5. Вытягиваем оставшееся в вектор (Flatten)\n",
        "6. Полносвязный слой на 100 нейронов\n",
        "7. Нелинейность на ваш вкус\n",
        "8. Выходной полносвязный слой с softmax\n",
        "\n",
        "Обучите её так же, как и предыдущую сеть. Если всё хорошо, у вас получится accuracy не меньше __50%__."
      ]
    },
    {
      "cell_type": "code",
      "source": [
        "(X_train, y_train), (X_test, y_test) = tf.keras.datasets.cifar10.load_data() # Загрузка данных"
      ],
      "metadata": {
        "id": "zLb5pcEwSWPV"
      },
      "execution_count": 75,
      "outputs": []
    },
    {
      "cell_type": "code",
      "source": [
        "# Исправление формы меток (методом squeeze убираю лишние измерения)\n",
        "y_train = np.squeeze(y_train)\n",
        "y_test = np.squeeze(y_test)"
      ],
      "metadata": {
        "id": "p-i8ndETh4Is"
      },
      "execution_count": 76,
      "outputs": []
    },
    {
      "cell_type": "code",
      "source": [
        "y_train[1:5]"
      ],
      "metadata": {
        "colab": {
          "base_uri": "https://localhost:8080/"
        },
        "id": "QxCcIVqAUnSi",
        "outputId": "3b6ac6b7-bf26-4933-cfe8-3367a41d3315"
      },
      "execution_count": 77,
      "outputs": [
        {
          "output_type": "execute_result",
          "data": {
            "text/plain": [
              "array([9, 9, 4, 1], dtype=uint8)"
            ]
          },
          "metadata": {},
          "execution_count": 77
        }
      ]
    },
    {
      "cell_type": "code",
      "source": [
        "# Разделение на обучающую и валидационную выборки\n",
        "X_train, X_val, y_train, y_val = train_test_split(X_train, y_train, test_size=0.2, random_state=1982)"
      ],
      "metadata": {
        "id": "RLILPUarUU3w"
      },
      "execution_count": 78,
      "outputs": []
    },
    {
      "cell_type": "code",
      "source": [
        "# Преобразование меток в one-hot encoding\n",
        "y_train_cat = keras.utils.to_categorical(y_train, num_classes=10)\n",
        "y_val_cat = keras.utils.to_categorical(y_val, num_classes=10)"
      ],
      "metadata": {
        "id": "h9C8NfT3Sqf4"
      },
      "execution_count": 79,
      "outputs": []
    },
    {
      "cell_type": "code",
      "source": [
        "y_val_cat[-2:]"
      ],
      "metadata": {
        "colab": {
          "base_uri": "https://localhost:8080/"
        },
        "id": "hTnx_gG0cIq3",
        "outputId": "4ffc2ced-310c-4fe1-8813-d40b8f5a715e"
      },
      "execution_count": 80,
      "outputs": [
        {
          "output_type": "execute_result",
          "data": {
            "text/plain": [
              "array([[0., 0., 0., 0., 0., 0., 1., 0., 0., 0.],\n",
              "       [0., 1., 0., 0., 0., 0., 0., 0., 0., 0.]])"
            ]
          },
          "metadata": {},
          "execution_count": 80
        }
      ]
    },
    {
      "cell_type": "code",
      "source": [
        "# Нормализация данных\n",
        "X_train = X_train / 255\n",
        "X_val = X_val / 255\n",
        "X_test = X_test / 255"
      ],
      "metadata": {
        "id": "LbTGLMnHdG3G"
      },
      "execution_count": 81,
      "outputs": []
    },
    {
      "cell_type": "code",
      "source": [
        "model_mod = tf.keras.models.Sequential([\n",
        "    tf.keras.layers.Input(shape=X_train.shape[1:]),     # Входной слой\n",
        "    tf.keras.layers.Conv2D(filters=10, kernel_size=(3, 3), strides=(1,1), dilation_rate=(1, 1), activation='relu',  padding='same'), # Свёртка 3x3 с 10 фильтрами, padding='same' (c обрамлением!)\n",
        "    tf.keras.layers.Activation('relu'),                 # Нелинейность\n",
        "    tf.keras.layers.MaxPooling2D((2, 2)),               # Max-pooling 2x2\n",
        "    tf.keras.layers.Flatten(),                          # Flatten\n",
        "    tf.keras.layers.Dense(100),                         # Полносвязный слой на 100 нейронов\n",
        "    tf.keras.layers.Activation('relu'),                 # Нелинейность\n",
        "    tf.keras.layers.Dense(10, activation='softmax')     # Выходной слой\n",
        "])\n",
        "\n",
        "model_mod.summary()"
      ],
      "metadata": {
        "colab": {
          "base_uri": "https://localhost:8080/",
          "height": 374
        },
        "id": "Yuth9KZ3VdkF",
        "outputId": "fcb0dba5-0f8a-424f-eb05-98b488883dc4"
      },
      "execution_count": 82,
      "outputs": [
        {
          "output_type": "display_data",
          "data": {
            "text/plain": [
              "\u001b[1mModel: \"sequential_4\"\u001b[0m\n"
            ],
            "text/html": [
              "<pre style=\"white-space:pre;overflow-x:auto;line-height:normal;font-family:Menlo,'DejaVu Sans Mono',consolas,'Courier New',monospace\"><span style=\"font-weight: bold\">Model: \"sequential_4\"</span>\n",
              "</pre>\n"
            ]
          },
          "metadata": {}
        },
        {
          "output_type": "display_data",
          "data": {
            "text/plain": [
              "┏━━━━━━━━━━━━━━━━━━━━━━━━━━━━━━━━━━━━━━┳━━━━━━━━━━━━━━━━━━━━━━━━━━━━━┳━━━━━━━━━━━━━━━━━┓\n",
              "┃\u001b[1m \u001b[0m\u001b[1mLayer (type)                        \u001b[0m\u001b[1m \u001b[0m┃\u001b[1m \u001b[0m\u001b[1mOutput Shape               \u001b[0m\u001b[1m \u001b[0m┃\u001b[1m \u001b[0m\u001b[1m        Param #\u001b[0m\u001b[1m \u001b[0m┃\n",
              "┡━━━━━━━━━━━━━━━━━━━━━━━━━━━━━━━━━━━━━━╇━━━━━━━━━━━━━━━━━━━━━━━━━━━━━╇━━━━━━━━━━━━━━━━━┩\n",
              "│ conv2d_4 (\u001b[38;5;33mConv2D\u001b[0m)                    │ (\u001b[38;5;45mNone\u001b[0m, \u001b[38;5;34m32\u001b[0m, \u001b[38;5;34m32\u001b[0m, \u001b[38;5;34m10\u001b[0m)          │             \u001b[38;5;34m280\u001b[0m │\n",
              "├──────────────────────────────────────┼─────────────────────────────┼─────────────────┤\n",
              "│ activation_2 (\u001b[38;5;33mActivation\u001b[0m)            │ (\u001b[38;5;45mNone\u001b[0m, \u001b[38;5;34m32\u001b[0m, \u001b[38;5;34m32\u001b[0m, \u001b[38;5;34m10\u001b[0m)          │               \u001b[38;5;34m0\u001b[0m │\n",
              "├──────────────────────────────────────┼─────────────────────────────┼─────────────────┤\n",
              "│ max_pooling2d_4 (\u001b[38;5;33mMaxPooling2D\u001b[0m)       │ (\u001b[38;5;45mNone\u001b[0m, \u001b[38;5;34m16\u001b[0m, \u001b[38;5;34m16\u001b[0m, \u001b[38;5;34m10\u001b[0m)          │               \u001b[38;5;34m0\u001b[0m │\n",
              "├──────────────────────────────────────┼─────────────────────────────┼─────────────────┤\n",
              "│ flatten_4 (\u001b[38;5;33mFlatten\u001b[0m)                  │ (\u001b[38;5;45mNone\u001b[0m, \u001b[38;5;34m2560\u001b[0m)                │               \u001b[38;5;34m0\u001b[0m │\n",
              "├──────────────────────────────────────┼─────────────────────────────┼─────────────────┤\n",
              "│ dense_13 (\u001b[38;5;33mDense\u001b[0m)                     │ (\u001b[38;5;45mNone\u001b[0m, \u001b[38;5;34m100\u001b[0m)                 │         \u001b[38;5;34m256,100\u001b[0m │\n",
              "├──────────────────────────────────────┼─────────────────────────────┼─────────────────┤\n",
              "│ activation_3 (\u001b[38;5;33mActivation\u001b[0m)            │ (\u001b[38;5;45mNone\u001b[0m, \u001b[38;5;34m100\u001b[0m)                 │               \u001b[38;5;34m0\u001b[0m │\n",
              "├──────────────────────────────────────┼─────────────────────────────┼─────────────────┤\n",
              "│ dense_14 (\u001b[38;5;33mDense\u001b[0m)                     │ (\u001b[38;5;45mNone\u001b[0m, \u001b[38;5;34m10\u001b[0m)                  │           \u001b[38;5;34m1,010\u001b[0m │\n",
              "└──────────────────────────────────────┴─────────────────────────────┴─────────────────┘\n"
            ],
            "text/html": [
              "<pre style=\"white-space:pre;overflow-x:auto;line-height:normal;font-family:Menlo,'DejaVu Sans Mono',consolas,'Courier New',monospace\">┏━━━━━━━━━━━━━━━━━━━━━━━━━━━━━━━━━━━━━━┳━━━━━━━━━━━━━━━━━━━━━━━━━━━━━┳━━━━━━━━━━━━━━━━━┓\n",
              "┃<span style=\"font-weight: bold\"> Layer (type)                         </span>┃<span style=\"font-weight: bold\"> Output Shape                </span>┃<span style=\"font-weight: bold\">         Param # </span>┃\n",
              "┡━━━━━━━━━━━━━━━━━━━━━━━━━━━━━━━━━━━━━━╇━━━━━━━━━━━━━━━━━━━━━━━━━━━━━╇━━━━━━━━━━━━━━━━━┩\n",
              "│ conv2d_4 (<span style=\"color: #0087ff; text-decoration-color: #0087ff\">Conv2D</span>)                    │ (<span style=\"color: #00d7ff; text-decoration-color: #00d7ff\">None</span>, <span style=\"color: #00af00; text-decoration-color: #00af00\">32</span>, <span style=\"color: #00af00; text-decoration-color: #00af00\">32</span>, <span style=\"color: #00af00; text-decoration-color: #00af00\">10</span>)          │             <span style=\"color: #00af00; text-decoration-color: #00af00\">280</span> │\n",
              "├──────────────────────────────────────┼─────────────────────────────┼─────────────────┤\n",
              "│ activation_2 (<span style=\"color: #0087ff; text-decoration-color: #0087ff\">Activation</span>)            │ (<span style=\"color: #00d7ff; text-decoration-color: #00d7ff\">None</span>, <span style=\"color: #00af00; text-decoration-color: #00af00\">32</span>, <span style=\"color: #00af00; text-decoration-color: #00af00\">32</span>, <span style=\"color: #00af00; text-decoration-color: #00af00\">10</span>)          │               <span style=\"color: #00af00; text-decoration-color: #00af00\">0</span> │\n",
              "├──────────────────────────────────────┼─────────────────────────────┼─────────────────┤\n",
              "│ max_pooling2d_4 (<span style=\"color: #0087ff; text-decoration-color: #0087ff\">MaxPooling2D</span>)       │ (<span style=\"color: #00d7ff; text-decoration-color: #00d7ff\">None</span>, <span style=\"color: #00af00; text-decoration-color: #00af00\">16</span>, <span style=\"color: #00af00; text-decoration-color: #00af00\">16</span>, <span style=\"color: #00af00; text-decoration-color: #00af00\">10</span>)          │               <span style=\"color: #00af00; text-decoration-color: #00af00\">0</span> │\n",
              "├──────────────────────────────────────┼─────────────────────────────┼─────────────────┤\n",
              "│ flatten_4 (<span style=\"color: #0087ff; text-decoration-color: #0087ff\">Flatten</span>)                  │ (<span style=\"color: #00d7ff; text-decoration-color: #00d7ff\">None</span>, <span style=\"color: #00af00; text-decoration-color: #00af00\">2560</span>)                │               <span style=\"color: #00af00; text-decoration-color: #00af00\">0</span> │\n",
              "├──────────────────────────────────────┼─────────────────────────────┼─────────────────┤\n",
              "│ dense_13 (<span style=\"color: #0087ff; text-decoration-color: #0087ff\">Dense</span>)                     │ (<span style=\"color: #00d7ff; text-decoration-color: #00d7ff\">None</span>, <span style=\"color: #00af00; text-decoration-color: #00af00\">100</span>)                 │         <span style=\"color: #00af00; text-decoration-color: #00af00\">256,100</span> │\n",
              "├──────────────────────────────────────┼─────────────────────────────┼─────────────────┤\n",
              "│ activation_3 (<span style=\"color: #0087ff; text-decoration-color: #0087ff\">Activation</span>)            │ (<span style=\"color: #00d7ff; text-decoration-color: #00d7ff\">None</span>, <span style=\"color: #00af00; text-decoration-color: #00af00\">100</span>)                 │               <span style=\"color: #00af00; text-decoration-color: #00af00\">0</span> │\n",
              "├──────────────────────────────────────┼─────────────────────────────┼─────────────────┤\n",
              "│ dense_14 (<span style=\"color: #0087ff; text-decoration-color: #0087ff\">Dense</span>)                     │ (<span style=\"color: #00d7ff; text-decoration-color: #00d7ff\">None</span>, <span style=\"color: #00af00; text-decoration-color: #00af00\">10</span>)                  │           <span style=\"color: #00af00; text-decoration-color: #00af00\">1,010</span> │\n",
              "└──────────────────────────────────────┴─────────────────────────────┴─────────────────┘\n",
              "</pre>\n"
            ]
          },
          "metadata": {}
        },
        {
          "output_type": "display_data",
          "data": {
            "text/plain": [
              "\u001b[1m Total params: \u001b[0m\u001b[38;5;34m257,390\u001b[0m (1005.43 KB)\n"
            ],
            "text/html": [
              "<pre style=\"white-space:pre;overflow-x:auto;line-height:normal;font-family:Menlo,'DejaVu Sans Mono',consolas,'Courier New',monospace\"><span style=\"font-weight: bold\"> Total params: </span><span style=\"color: #00af00; text-decoration-color: #00af00\">257,390</span> (1005.43 KB)\n",
              "</pre>\n"
            ]
          },
          "metadata": {}
        },
        {
          "output_type": "display_data",
          "data": {
            "text/plain": [
              "\u001b[1m Trainable params: \u001b[0m\u001b[38;5;34m257,390\u001b[0m (1005.43 KB)\n"
            ],
            "text/html": [
              "<pre style=\"white-space:pre;overflow-x:auto;line-height:normal;font-family:Menlo,'DejaVu Sans Mono',consolas,'Courier New',monospace\"><span style=\"font-weight: bold\"> Trainable params: </span><span style=\"color: #00af00; text-decoration-color: #00af00\">257,390</span> (1005.43 KB)\n",
              "</pre>\n"
            ]
          },
          "metadata": {}
        },
        {
          "output_type": "display_data",
          "data": {
            "text/plain": [
              "\u001b[1m Non-trainable params: \u001b[0m\u001b[38;5;34m0\u001b[0m (0.00 B)\n"
            ],
            "text/html": [
              "<pre style=\"white-space:pre;overflow-x:auto;line-height:normal;font-family:Menlo,'DejaVu Sans Mono',consolas,'Courier New',monospace\"><span style=\"font-weight: bold\"> Non-trainable params: </span><span style=\"color: #00af00; text-decoration-color: #00af00\">0</span> (0.00 B)\n",
              "</pre>\n"
            ]
          },
          "metadata": {}
        }
      ]
    },
    {
      "cell_type": "code",
      "source": [
        "keras.utils.plot_model(model_mod, show_shapes=True, to_file='model_mod.png')"
      ],
      "metadata": {
        "colab": {
          "base_uri": "https://localhost:8080/",
          "height": 1000
        },
        "id": "0SRJj_eI9H9D",
        "outputId": "967b6be1-febe-472f-f5b7-4cc5486bd89e"
      },
      "execution_count": 83,
      "outputs": [
        {
          "output_type": "execute_result",
          "data": {
            "image/png": "[encoded data removed]",
            "text/plain": [
              "<IPython.core.display.Image object>"
            ]
          },
          "metadata": {},
          "execution_count": 83
        }
      ]
    },
    {
      "cell_type": "code",
      "source": [
        "callbacks = tf.keras.callbacks.EarlyStopping(monitor='val_loss', min_delta=0, patience=3)\n",
        "\n",
        "\"\"\"\n",
        "callbacks = [\n",
        "    tf.keras.callbacks.ModelCheckpoint(filepath='model.{epoch:02d}-{val_loss:.2f}.keras'),\n",
        "    tf.keras.callbacks.TensorBoard(log_dir='./logs'),\n",
        "    tf.keras.callbacks.EarlyStopping(patience=3)\n",
        "]\n",
        "\"\"\""
      ],
      "metadata": {
        "colab": {
          "base_uri": "https://localhost:8080/",
          "height": 35
        },
        "id": "yTzZTz13WiqM",
        "outputId": "ee17b6e4-001d-45b3-8e1c-4c03cf772ab2"
      },
      "execution_count": 84,
      "outputs": [
        {
          "output_type": "execute_result",
          "data": {
            "text/plain": [
              "\"\\ncallbacks = [\\n    tf.keras.callbacks.ModelCheckpoint(filepath='model.{epoch:02d}-{val_loss:.2f}.keras'),\\n    tf.keras.callbacks.TensorBoard(log_dir='./logs'),\\n    tf.keras.callbacks.EarlyStopping(patience=3)\\n]\\n\""
            ],
            "application/vnd.google.colaboratory.intrinsic+json": {
              "type": "string"
            }
          },
          "metadata": {},
          "execution_count": 84
        }
      ]
    },
    {
      "cell_type": "code",
      "source": [
        "# Определение переменной metrics\n",
        "metrics = [#keras.metrics.FalseNegatives(name='FN'),\n",
        "           #keras.metrics.FalsePositives(name='FP'),\n",
        "           keras.metrics.Recall(name='recall'),\n",
        "           keras.metrics.F1Score(name='F1Score')]"
      ],
      "metadata": {
        "id": "eI8PzriTtOQx"
      },
      "execution_count": 85,
      "outputs": []
    },
    {
      "cell_type": "code",
      "source": [
        "# Функция потерь для многоклассовой классификации и скорость обучения 0.001\n",
        "model_mod.compile(\n",
        "    optimizer=keras.optimizers.Adam(0.001), # Обновление весов: выбран оптимизатор Адам\n",
        "    loss=\"categorical_crossentropy\",        # Функция потерь\n",
        "    metrics=metrics\n",
        ")"
      ],
      "metadata": {
        "id": "V3YQmFcLWnCw"
      },
      "execution_count": 86,
      "outputs": []
    },
    {
      "cell_type": "code",
      "source": [
        "model_mod.fit(\n",
        "    X_train, y_train_cat,\n",
        "    batch_size=64,\n",
        "    epochs=32,\n",
        "    callbacks=callbacks,\n",
        "    validation_data=(X_val, y_val_cat)\n",
        ")"
      ],
      "metadata": {
        "colab": {
          "base_uri": "https://localhost:8080/"
        },
        "id": "Qb97Kz83XCKz",
        "outputId": "75f13b8f-cf71-4ffd-aae1-542c4ee31be0"
      },
      "execution_count": 87,
      "outputs": [
        {
          "output_type": "stream",
          "name": "stdout",
          "text": [
            "Epoch 1/32\n",
            "\u001b[1m625/625\u001b[0m \u001b[32m━━━━━━━━━━━━━━━━━━━━\u001b[0m\u001b[37m\u001b[0m \u001b[1m7s\u001b[0m 7ms/step - F1Score: 0.3396 - loss: 1.8056 - recall: 0.0820 - val_F1Score: 0.4651 - val_loss: 1.4353 - val_recall: 0.2610\n",
            "Epoch 2/32\n",
            "\u001b[1m625/625\u001b[0m \u001b[32m━━━━━━━━━━━━━━━━━━━━\u001b[0m\u001b[37m\u001b[0m \u001b[1m3s\u001b[0m 4ms/step - F1Score: 0.5184 - loss: 1.3497 - recall: 0.2881 - val_F1Score: 0.5425 - val_loss: 1.2987 - val_recall: 0.3338\n",
            "Epoch 3/32\n",
            "\u001b[1m625/625\u001b[0m \u001b[32m━━━━━━━━━━━━━━━━━━━━\u001b[0m\u001b[37m\u001b[0m \u001b[1m5s\u001b[0m 4ms/step - F1Score: 0.5675 - loss: 1.2222 - recall: 0.3631 - val_F1Score: 0.5564 - val_loss: 1.2326 - val_recall: 0.4058\n",
            "Epoch 4/32\n",
            "\u001b[1m625/625\u001b[0m \u001b[32m━━━━━━━━━━━━━━━━━━━━\u001b[0m\u001b[37m\u001b[0m \u001b[1m3s\u001b[0m 5ms/step - F1Score: 0.6020 - loss: 1.1259 - recall: 0.4271 - val_F1Score: 0.5780 - val_loss: 1.2054 - val_recall: 0.4214\n",
            "Epoch 5/32\n",
            "\u001b[1m625/625\u001b[0m \u001b[32m━━━━━━━━━━━━━━━━━━━━\u001b[0m\u001b[37m\u001b[0m \u001b[1m4s\u001b[0m 4ms/step - F1Score: 0.6262 - loss: 1.0673 - recall: 0.4639 - val_F1Score: 0.5924 - val_loss: 1.1568 - val_recall: 0.4546\n",
            "Epoch 6/32\n",
            "\u001b[1m625/625\u001b[0m \u001b[32m━━━━━━━━━━━━━━━━━━━━\u001b[0m\u001b[37m\u001b[0m \u001b[1m3s\u001b[0m 4ms/step - F1Score: 0.6394 - loss: 1.0177 - recall: 0.4890 - val_F1Score: 0.6065 - val_loss: 1.1421 - val_recall: 0.4696\n",
            "Epoch 7/32\n",
            "\u001b[1m625/625\u001b[0m \u001b[32m━━━━━━━━━━━━━━━━━━━━\u001b[0m\u001b[37m\u001b[0m \u001b[1m5s\u001b[0m 5ms/step - F1Score: 0.6692 - loss: 0.9553 - recall: 0.5284 - val_F1Score: 0.6163 - val_loss: 1.1071 - val_recall: 0.4881\n",
            "Epoch 8/32\n",
            "\u001b[1m625/625\u001b[0m \u001b[32m━━━━━━━━━━━━━━━━━━━━\u001b[0m\u001b[37m\u001b[0m \u001b[1m4s\u001b[0m 4ms/step - F1Score: 0.6823 - loss: 0.9046 - recall: 0.5580 - val_F1Score: 0.6182 - val_loss: 1.1148 - val_recall: 0.5087\n",
            "Epoch 9/32\n",
            "\u001b[1m625/625\u001b[0m \u001b[32m━━━━━━━━━━━━━━━━━━━━\u001b[0m\u001b[37m\u001b[0m \u001b[1m3s\u001b[0m 4ms/step - F1Score: 0.6957 - loss: 0.8744 - recall: 0.5778 - val_F1Score: 0.6075 - val_loss: 1.1377 - val_recall: 0.5127\n",
            "Epoch 10/32\n",
            "\u001b[1m625/625\u001b[0m \u001b[32m━━━━━━━━━━━━━━━━━━━━\u001b[0m\u001b[37m\u001b[0m \u001b[1m5s\u001b[0m 5ms/step - F1Score: 0.7103 - loss: 0.8287 - recall: 0.6003 - val_F1Score: 0.6199 - val_loss: 1.1233 - val_recall: 0.5198\n"
          ]
        },
        {
          "output_type": "execute_result",
          "data": {
            "text/plain": [
              "<keras.src.callbacks.history.History at 0x7efd706e7bd0>"
            ]
          },
          "metadata": {},
          "execution_count": 87
        }
      ]
    },
    {
      "cell_type": "code",
      "source": [
        "from sklearn.metrics import accuracy_score, f1_score\n",
        "\n",
        "predict_x=model_mod.predict(X_test)\n",
        "classes_x=np.argmax(predict_x,axis=1)\n",
        "\n",
        "test_acc = accuracy_score(y_test, classes_x)\n",
        "print(f'\\n Test_acc ={test_acc}')\n",
        "assert test_acc > 0.50, \"Not good enough. Back to the drawing board :)\"\n",
        "print(\" Not bad!\")"
      ],
      "metadata": {
        "colab": {
          "base_uri": "https://localhost:8080/"
        },
        "id": "7SaX3D6pim0Z",
        "outputId": "762eac90-3029-4484-c6c7-b6afde944695"
      },
      "execution_count": 88,
      "outputs": [
        {
          "output_type": "stream",
          "name": "stdout",
          "text": [
            "\u001b[1m313/313\u001b[0m \u001b[32m━━━━━━━━━━━━━━━━━━━━\u001b[0m\u001b[37m\u001b[0m \u001b[1m1s\u001b[0m 2ms/step\n",
            "\n",
            " Test_acc =0.6201\n",
            " Not bad!\n"
          ]
        }
      ]
    },
    {
      "cell_type": "code",
      "source": [
        "y_test"
      ],
      "metadata": {
        "colab": {
          "base_uri": "https://localhost:8080/"
        },
        "id": "gsC-BRlN-p5M",
        "outputId": "add40143-d1d5-458c-ce9c-0cd18472a787"
      },
      "execution_count": 89,
      "outputs": [
        {
          "output_type": "execute_result",
          "data": {
            "text/plain": [
              "array([3, 8, 8, ..., 5, 1, 7], dtype=uint8)"
            ]
          },
          "metadata": {},
          "execution_count": 89
        }
      ]
    },
    {
      "cell_type": "code",
      "source": [
        "from sklearn.metrics import classification_report\n",
        "\n",
        "print(classification_report(y_test, classes_x))"
      ],
      "metadata": {
        "colab": {
          "base_uri": "https://localhost:8080/"
        },
        "id": "-476iqEZ-XmL",
        "outputId": "d1f018d6-ee16-4ee6-804e-306aca62beb7"
      },
      "execution_count": 90,
      "outputs": [
        {
          "output_type": "stream",
          "name": "stdout",
          "text": [
            "              precision    recall  f1-score   support\n",
            "\n",
            "           0       0.74      0.60      0.66      1000\n",
            "           1       0.80      0.70      0.75      1000\n",
            "           2       0.55      0.40      0.47      1000\n",
            "           3       0.46      0.38      0.42      1000\n",
            "           4       0.51      0.61      0.55      1000\n",
            "           5       0.49      0.59      0.53      1000\n",
            "           6       0.60      0.77      0.68      1000\n",
            "           7       0.72      0.67      0.70      1000\n",
            "           8       0.71      0.77      0.74      1000\n",
            "           9       0.67      0.70      0.69      1000\n",
            "\n",
            "    accuracy                           0.62     10000\n",
            "   macro avg       0.63      0.62      0.62     10000\n",
            "weighted avg       0.63      0.62      0.62     10000\n",
            "\n"
          ]
        }
      ]
    },
    {
      "cell_type": "markdown",
      "source": [
        "### архитектура model_mod_2"
      ],
      "metadata": {
        "id": "2KDKkYMihXz2"
      }
    },
    {
      "cell_type": "code",
      "source": [
        "# Улучшенная архитектура с CNN\n",
        "model_mod_2 = tf.keras.models.Sequential([\n",
        "    tf.keras.layers.Input(shape=X_train.shape[1:]),\n",
        "    # Сверточные слои для извлечения признаков изображений (modul feature extractor)\n",
        "    tf.keras.layers.Conv2D(32, (3, 3), activation='relu', padding='same'),   # Свёртка 3x3 с 32 фильтрами\n",
        "    tf.keras.layers.MaxPooling2D((2, 2)),\n",
        "    tf.keras.layers.Conv2D(64, (3, 3), activation='relu', padding='same'),   # Свёртка 3x3 с 64 фильтрами\n",
        "    tf.keras.layers.MaxPooling2D((2, 2)),\n",
        "    tf.keras.layers.Conv2D(128, (3, 3), activation='relu', padding='same'),  # Свёртка 3x3 с 128 фильтрами\n",
        "    tf.keras.layers.MaxPooling2D((2, 2)),\n",
        "    ## modul Clf\n",
        "    # Преобразование в одномерный вектор\n",
        "    tf.keras.layers.Flatten(),\n",
        "    # Полносвязные слои с большим количеством нейронов\n",
        "    tf.keras.layers.Dense(100, activation='relu'),\n",
        "    tf.keras.layers.Dropout(0.3),  # Предотвращение переобучения\n",
        "    tf.keras.layers.Dense(64, activation='relu'),\n",
        "    tf.keras.layers.Dense(10, activation='softmax')\n",
        "])\n",
        "\n",
        "model_mod_2.summary()"
      ],
      "metadata": {
        "colab": {
          "base_uri": "https://localhost:8080/",
          "height": 510
        },
        "id": "UuJV1hldhV0-",
        "outputId": "875c2df2-47ee-43e9-f635-9d20df0af894"
      },
      "execution_count": 91,
      "outputs": [
        {
          "output_type": "display_data",
          "data": {
            "text/plain": [
              "\u001b[1mModel: \"sequential_5\"\u001b[0m\n"
            ],
            "text/html": [
              "<pre style=\"white-space:pre;overflow-x:auto;line-height:normal;font-family:Menlo,'DejaVu Sans Mono',consolas,'Courier New',monospace\"><span style=\"font-weight: bold\">Model: \"sequential_5\"</span>\n",
              "</pre>\n"
            ]
          },
          "metadata": {}
        },
        {
          "output_type": "display_data",
          "data": {
            "text/plain": [
              "┏━━━━━━━━━━━━━━━━━━━━━━━━━━━━━━━━━━━━━━┳━━━━━━━━━━━━━━━━━━━━━━━━━━━━━┳━━━━━━━━━━━━━━━━━┓\n",
              "┃\u001b[1m \u001b[0m\u001b[1mLayer (type)                        \u001b[0m\u001b[1m \u001b[0m┃\u001b[1m \u001b[0m\u001b[1mOutput Shape               \u001b[0m\u001b[1m \u001b[0m┃\u001b[1m \u001b[0m\u001b[1m        Param #\u001b[0m\u001b[1m \u001b[0m┃\n",
              "┡━━━━━━━━━━━━━━━━━━━━━━━━━━━━━━━━━━━━━━╇━━━━━━━━━━━━━━━━━━━━━━━━━━━━━╇━━━━━━━━━━━━━━━━━┩\n",
              "│ conv2d_5 (\u001b[38;5;33mConv2D\u001b[0m)                    │ (\u001b[38;5;45mNone\u001b[0m, \u001b[38;5;34m32\u001b[0m, \u001b[38;5;34m32\u001b[0m, \u001b[38;5;34m32\u001b[0m)          │             \u001b[38;5;34m896\u001b[0m │\n",
              "├──────────────────────────────────────┼─────────────────────────────┼─────────────────┤\n",
              "│ max_pooling2d_5 (\u001b[38;5;33mMaxPooling2D\u001b[0m)       │ (\u001b[38;5;45mNone\u001b[0m, \u001b[38;5;34m16\u001b[0m, \u001b[38;5;34m16\u001b[0m, \u001b[38;5;34m32\u001b[0m)          │               \u001b[38;5;34m0\u001b[0m │\n",
              "├──────────────────────────────────────┼─────────────────────────────┼─────────────────┤\n",
              "│ conv2d_6 (\u001b[38;5;33mConv2D\u001b[0m)                    │ (\u001b[38;5;45mNone\u001b[0m, \u001b[38;5;34m16\u001b[0m, \u001b[38;5;34m16\u001b[0m, \u001b[38;5;34m64\u001b[0m)          │          \u001b[38;5;34m18,496\u001b[0m │\n",
              "├──────────────────────────────────────┼─────────────────────────────┼─────────────────┤\n",
              "│ max_pooling2d_6 (\u001b[38;5;33mMaxPooling2D\u001b[0m)       │ (\u001b[38;5;45mNone\u001b[0m, \u001b[38;5;34m8\u001b[0m, \u001b[38;5;34m8\u001b[0m, \u001b[38;5;34m64\u001b[0m)            │               \u001b[38;5;34m0\u001b[0m │\n",
              "├──────────────────────────────────────┼─────────────────────────────┼─────────────────┤\n",
              "│ conv2d_7 (\u001b[38;5;33mConv2D\u001b[0m)                    │ (\u001b[38;5;45mNone\u001b[0m, \u001b[38;5;34m8\u001b[0m, \u001b[38;5;34m8\u001b[0m, \u001b[38;5;34m128\u001b[0m)           │          \u001b[38;5;34m73,856\u001b[0m │\n",
              "├──────────────────────────────────────┼─────────────────────────────┼─────────────────┤\n",
              "│ max_pooling2d_7 (\u001b[38;5;33mMaxPooling2D\u001b[0m)       │ (\u001b[38;5;45mNone\u001b[0m, \u001b[38;5;34m4\u001b[0m, \u001b[38;5;34m4\u001b[0m, \u001b[38;5;34m128\u001b[0m)           │               \u001b[38;5;34m0\u001b[0m │\n",
              "├──────────────────────────────────────┼─────────────────────────────┼─────────────────┤\n",
              "│ flatten_5 (\u001b[38;5;33mFlatten\u001b[0m)                  │ (\u001b[38;5;45mNone\u001b[0m, \u001b[38;5;34m2048\u001b[0m)                │               \u001b[38;5;34m0\u001b[0m │\n",
              "├──────────────────────────────────────┼─────────────────────────────┼─────────────────┤\n",
              "│ dense_15 (\u001b[38;5;33mDense\u001b[0m)                     │ (\u001b[38;5;45mNone\u001b[0m, \u001b[38;5;34m100\u001b[0m)                 │         \u001b[38;5;34m204,900\u001b[0m │\n",
              "├──────────────────────────────────────┼─────────────────────────────┼─────────────────┤\n",
              "│ dropout_1 (\u001b[38;5;33mDropout\u001b[0m)                  │ (\u001b[38;5;45mNone\u001b[0m, \u001b[38;5;34m100\u001b[0m)                 │               \u001b[38;5;34m0\u001b[0m │\n",
              "├──────────────────────────────────────┼─────────────────────────────┼─────────────────┤\n",
              "│ dense_16 (\u001b[38;5;33mDense\u001b[0m)                     │ (\u001b[38;5;45mNone\u001b[0m, \u001b[38;5;34m64\u001b[0m)                  │           \u001b[38;5;34m6,464\u001b[0m │\n",
              "├──────────────────────────────────────┼─────────────────────────────┼─────────────────┤\n",
              "│ dense_17 (\u001b[38;5;33mDense\u001b[0m)                     │ (\u001b[38;5;45mNone\u001b[0m, \u001b[38;5;34m10\u001b[0m)                  │             \u001b[38;5;34m650\u001b[0m │\n",
              "└──────────────────────────────────────┴─────────────────────────────┴─────────────────┘\n"
            ],
            "text/html": [
              "<pre style=\"white-space:pre;overflow-x:auto;line-height:normal;font-family:Menlo,'DejaVu Sans Mono',consolas,'Courier New',monospace\">┏━━━━━━━━━━━━━━━━━━━━━━━━━━━━━━━━━━━━━━┳━━━━━━━━━━━━━━━━━━━━━━━━━━━━━┳━━━━━━━━━━━━━━━━━┓\n",
              "┃<span style=\"font-weight: bold\"> Layer (type)                         </span>┃<span style=\"font-weight: bold\"> Output Shape                </span>┃<span style=\"font-weight: bold\">         Param # </span>┃\n",
              "┡━━━━━━━━━━━━━━━━━━━━━━━━━━━━━━━━━━━━━━╇━━━━━━━━━━━━━━━━━━━━━━━━━━━━━╇━━━━━━━━━━━━━━━━━┩\n",
              "│ conv2d_5 (<span style=\"color: #0087ff; text-decoration-color: #0087ff\">Conv2D</span>)                    │ (<span style=\"color: #00d7ff; text-decoration-color: #00d7ff\">None</span>, <span style=\"color: #00af00; text-decoration-color: #00af00\">32</span>, <span style=\"color: #00af00; text-decoration-color: #00af00\">32</span>, <span style=\"color: #00af00; text-decoration-color: #00af00\">32</span>)          │             <span style=\"color: #00af00; text-decoration-color: #00af00\">896</span> │\n",
              "├──────────────────────────────────────┼─────────────────────────────┼─────────────────┤\n",
              "│ max_pooling2d_5 (<span style=\"color: #0087ff; text-decoration-color: #0087ff\">MaxPooling2D</span>)       │ (<span style=\"color: #00d7ff; text-decoration-color: #00d7ff\">None</span>, <span style=\"color: #00af00; text-decoration-color: #00af00\">16</span>, <span style=\"color: #00af00; text-decoration-color: #00af00\">16</span>, <span style=\"color: #00af00; text-decoration-color: #00af00\">32</span>)          │               <span style=\"color: #00af00; text-decoration-color: #00af00\">0</span> │\n",
              "├──────────────────────────────────────┼─────────────────────────────┼─────────────────┤\n",
              "│ conv2d_6 (<span style=\"color: #0087ff; text-decoration-color: #0087ff\">Conv2D</span>)                    │ (<span style=\"color: #00d7ff; text-decoration-color: #00d7ff\">None</span>, <span style=\"color: #00af00; text-decoration-color: #00af00\">16</span>, <span style=\"color: #00af00; text-decoration-color: #00af00\">16</span>, <span style=\"color: #00af00; text-decoration-color: #00af00\">64</span>)          │          <span style=\"color: #00af00; text-decoration-color: #00af00\">18,496</span> │\n",
              "├──────────────────────────────────────┼─────────────────────────────┼─────────────────┤\n",
              "│ max_pooling2d_6 (<span style=\"color: #0087ff; text-decoration-color: #0087ff\">MaxPooling2D</span>)       │ (<span style=\"color: #00d7ff; text-decoration-color: #00d7ff\">None</span>, <span style=\"color: #00af00; text-decoration-color: #00af00\">8</span>, <span style=\"color: #00af00; text-decoration-color: #00af00\">8</span>, <span style=\"color: #00af00; text-decoration-color: #00af00\">64</span>)            │               <span style=\"color: #00af00; text-decoration-color: #00af00\">0</span> │\n",
              "├──────────────────────────────────────┼─────────────────────────────┼─────────────────┤\n",
              "│ conv2d_7 (<span style=\"color: #0087ff; text-decoration-color: #0087ff\">Conv2D</span>)                    │ (<span style=\"color: #00d7ff; text-decoration-color: #00d7ff\">None</span>, <span style=\"color: #00af00; text-decoration-color: #00af00\">8</span>, <span style=\"color: #00af00; text-decoration-color: #00af00\">8</span>, <span style=\"color: #00af00; text-decoration-color: #00af00\">128</span>)           │          <span style=\"color: #00af00; text-decoration-color: #00af00\">73,856</span> │\n",
              "├──────────────────────────────────────┼─────────────────────────────┼─────────────────┤\n",
              "│ max_pooling2d_7 (<span style=\"color: #0087ff; text-decoration-color: #0087ff\">MaxPooling2D</span>)       │ (<span style=\"color: #00d7ff; text-decoration-color: #00d7ff\">None</span>, <span style=\"color: #00af00; text-decoration-color: #00af00\">4</span>, <span style=\"color: #00af00; text-decoration-color: #00af00\">4</span>, <span style=\"color: #00af00; text-decoration-color: #00af00\">128</span>)           │               <span style=\"color: #00af00; text-decoration-color: #00af00\">0</span> │\n",
              "├──────────────────────────────────────┼─────────────────────────────┼─────────────────┤\n",
              "│ flatten_5 (<span style=\"color: #0087ff; text-decoration-color: #0087ff\">Flatten</span>)                  │ (<span style=\"color: #00d7ff; text-decoration-color: #00d7ff\">None</span>, <span style=\"color: #00af00; text-decoration-color: #00af00\">2048</span>)                │               <span style=\"color: #00af00; text-decoration-color: #00af00\">0</span> │\n",
              "├──────────────────────────────────────┼─────────────────────────────┼─────────────────┤\n",
              "│ dense_15 (<span style=\"color: #0087ff; text-decoration-color: #0087ff\">Dense</span>)                     │ (<span style=\"color: #00d7ff; text-decoration-color: #00d7ff\">None</span>, <span style=\"color: #00af00; text-decoration-color: #00af00\">100</span>)                 │         <span style=\"color: #00af00; text-decoration-color: #00af00\">204,900</span> │\n",
              "├──────────────────────────────────────┼─────────────────────────────┼─────────────────┤\n",
              "│ dropout_1 (<span style=\"color: #0087ff; text-decoration-color: #0087ff\">Dropout</span>)                  │ (<span style=\"color: #00d7ff; text-decoration-color: #00d7ff\">None</span>, <span style=\"color: #00af00; text-decoration-color: #00af00\">100</span>)                 │               <span style=\"color: #00af00; text-decoration-color: #00af00\">0</span> │\n",
              "├──────────────────────────────────────┼─────────────────────────────┼─────────────────┤\n",
              "│ dense_16 (<span style=\"color: #0087ff; text-decoration-color: #0087ff\">Dense</span>)                     │ (<span style=\"color: #00d7ff; text-decoration-color: #00d7ff\">None</span>, <span style=\"color: #00af00; text-decoration-color: #00af00\">64</span>)                  │           <span style=\"color: #00af00; text-decoration-color: #00af00\">6,464</span> │\n",
              "├──────────────────────────────────────┼─────────────────────────────┼─────────────────┤\n",
              "│ dense_17 (<span style=\"color: #0087ff; text-decoration-color: #0087ff\">Dense</span>)                     │ (<span style=\"color: #00d7ff; text-decoration-color: #00d7ff\">None</span>, <span style=\"color: #00af00; text-decoration-color: #00af00\">10</span>)                  │             <span style=\"color: #00af00; text-decoration-color: #00af00\">650</span> │\n",
              "└──────────────────────────────────────┴─────────────────────────────┴─────────────────┘\n",
              "</pre>\n"
            ]
          },
          "metadata": {}
        },
        {
          "output_type": "display_data",
          "data": {
            "text/plain": [
              "\u001b[1m Total params: \u001b[0m\u001b[38;5;34m305,262\u001b[0m (1.16 MB)\n"
            ],
            "text/html": [
              "<pre style=\"white-space:pre;overflow-x:auto;line-height:normal;font-family:Menlo,'DejaVu Sans Mono',consolas,'Courier New',monospace\"><span style=\"font-weight: bold\"> Total params: </span><span style=\"color: #00af00; text-decoration-color: #00af00\">305,262</span> (1.16 MB)\n",
              "</pre>\n"
            ]
          },
          "metadata": {}
        },
        {
          "output_type": "display_data",
          "data": {
            "text/plain": [
              "\u001b[1m Trainable params: \u001b[0m\u001b[38;5;34m305,262\u001b[0m (1.16 MB)\n"
            ],
            "text/html": [
              "<pre style=\"white-space:pre;overflow-x:auto;line-height:normal;font-family:Menlo,'DejaVu Sans Mono',consolas,'Courier New',monospace\"><span style=\"font-weight: bold\"> Trainable params: </span><span style=\"color: #00af00; text-decoration-color: #00af00\">305,262</span> (1.16 MB)\n",
              "</pre>\n"
            ]
          },
          "metadata": {}
        },
        {
          "output_type": "display_data",
          "data": {
            "text/plain": [
              "\u001b[1m Non-trainable params: \u001b[0m\u001b[38;5;34m0\u001b[0m (0.00 B)\n"
            ],
            "text/html": [
              "<pre style=\"white-space:pre;overflow-x:auto;line-height:normal;font-family:Menlo,'DejaVu Sans Mono',consolas,'Courier New',monospace\"><span style=\"font-weight: bold\"> Non-trainable params: </span><span style=\"color: #00af00; text-decoration-color: #00af00\">0</span> (0.00 B)\n",
              "</pre>\n"
            ]
          },
          "metadata": {}
        }
      ]
    },
    {
      "cell_type": "code",
      "source": [
        "callbacks = tf.keras.callbacks.EarlyStopping(monitor='val_loss', min_delta=0, patience=3)\n",
        "\n",
        "\"\"\"\n",
        "callbacks = [\n",
        "    tf.keras.callbacks.ModelCheckpoint(filepath='model.{epoch:02d}-{val_loss:.2f}.keras'),\n",
        "    tf.keras.callbacks.TensorBoard(log_dir='./logs'),\n",
        "    tf.keras.callbacks.EarlyStopping(patience=3)\n",
        "]\n",
        "\"\"\""
      ],
      "metadata": {
        "colab": {
          "base_uri": "https://localhost:8080/",
          "height": 35
        },
        "outputId": "2bc6d315-45e9-49ba-8a53-db781ca40f27",
        "id": "60dzHpIn6BME"
      },
      "execution_count": 92,
      "outputs": [
        {
          "output_type": "execute_result",
          "data": {
            "text/plain": [
              "\"\\ncallbacks = [\\n    tf.keras.callbacks.ModelCheckpoint(filepath='model.{epoch:02d}-{val_loss:.2f}.keras'),\\n    tf.keras.callbacks.TensorBoard(log_dir='./logs'),\\n    tf.keras.callbacks.EarlyStopping(patience=3)\\n]\\n\""
            ],
            "application/vnd.google.colaboratory.intrinsic+json": {
              "type": "string"
            }
          },
          "metadata": {},
          "execution_count": 92
        }
      ]
    },
    {
      "cell_type": "code",
      "source": [
        "# Определение переменной metrics\n",
        "metrics = [#keras.metrics.FalseNegatives(name='FN'),\n",
        "           #keras.metrics.FalsePositives(name='FP'),\n",
        "           keras.metrics.Recall(name='recall'),\n",
        "           keras.metrics.F1Score(name='F1Score')]"
      ],
      "metadata": {
        "id": "aJpGrjmb6BMF"
      },
      "execution_count": 93,
      "outputs": []
    },
    {
      "cell_type": "code",
      "source": [
        "# Функция потерь для многоклассовой классификации и скорость обучения 0.001\n",
        "model_mod_2.compile(\n",
        "    optimizer=keras.optimizers.Adam(0.001), # Обновление весов: выбран оптимизатор Адам\n",
        "    loss=\"categorical_crossentropy\",        # Функция потерь\n",
        "    metrics=metrics\n",
        ")"
      ],
      "metadata": {
        "id": "DDG4lgin6BMF"
      },
      "execution_count": 94,
      "outputs": []
    },
    {
      "cell_type": "code",
      "source": [
        "model_mod_2.fit(\n",
        "    X_train, y_train_cat,\n",
        "    batch_size=64,\n",
        "    epochs=32,\n",
        "    callbacks=callbacks,\n",
        "    validation_data=(X_val, y_val_cat)\n",
        ")"
      ],
      "metadata": {
        "colab": {
          "base_uri": "https://localhost:8080/"
        },
        "outputId": "51217f5b-f4b0-49c0-d491-22bd89993633",
        "id": "H5yQ1H2y6BMF"
      },
      "execution_count": 95,
      "outputs": [
        {
          "output_type": "stream",
          "name": "stdout",
          "text": [
            "Epoch 1/32\n",
            "\u001b[1m625/625\u001b[0m \u001b[32m━━━━━━━━━━━━━━━━━━━━\u001b[0m\u001b[37m\u001b[0m \u001b[1m9s\u001b[0m 9ms/step - F1Score: 0.2674 - loss: 1.9067 - recall: 0.0622 - val_F1Score: 0.4998 - val_loss: 1.3213 - val_recall: 0.2974\n",
            "Epoch 2/32\n",
            "\u001b[1m625/625\u001b[0m \u001b[32m━━━━━━━━━━━━━━━━━━━━\u001b[0m\u001b[37m\u001b[0m \u001b[1m4s\u001b[0m 6ms/step - F1Score: 0.5238 - loss: 1.2996 - recall: 0.3285 - val_F1Score: 0.5784 - val_loss: 1.1082 - val_recall: 0.4674\n",
            "Epoch 3/32\n",
            "\u001b[1m625/625\u001b[0m \u001b[32m━━━━━━━━━━━━━━━━━━━━\u001b[0m\u001b[37m\u001b[0m \u001b[1m3s\u001b[0m 5ms/step - F1Score: 0.6158 - loss: 1.0735 - recall: 0.4647 - val_F1Score: 0.6731 - val_loss: 0.9407 - val_recall: 0.5236\n",
            "Epoch 4/32\n",
            "\u001b[1m625/625\u001b[0m \u001b[32m━━━━━━━━━━━━━━━━━━━━\u001b[0m\u001b[37m\u001b[0m \u001b[1m4s\u001b[0m 6ms/step - F1Score: 0.6631 - loss: 0.9481 - recall: 0.5368 - val_F1Score: 0.7005 - val_loss: 0.8648 - val_recall: 0.6068\n",
            "Epoch 5/32\n",
            "\u001b[1m625/625\u001b[0m \u001b[32m━━━━━━━━━━━━━━━━━━━━\u001b[0m\u001b[37m\u001b[0m \u001b[1m5s\u001b[0m 6ms/step - F1Score: 0.6992 - loss: 0.8496 - recall: 0.5897 - val_F1Score: 0.7173 - val_loss: 0.8097 - val_recall: 0.6306\n",
            "Epoch 6/32\n",
            "\u001b[1m625/625\u001b[0m \u001b[32m━━━━━━━━━━━━━━━━━━━━\u001b[0m\u001b[37m\u001b[0m \u001b[1m3s\u001b[0m 5ms/step - F1Score: 0.7283 - loss: 0.7682 - recall: 0.6343 - val_F1Score: 0.7286 - val_loss: 0.7876 - val_recall: 0.6662\n",
            "Epoch 7/32\n",
            "\u001b[1m625/625\u001b[0m \u001b[32m━━━━━━━━━━━━━━━━━━━━\u001b[0m\u001b[37m\u001b[0m \u001b[1m4s\u001b[0m 6ms/step - F1Score: 0.7558 - loss: 0.7030 - recall: 0.6703 - val_F1Score: 0.7288 - val_loss: 0.8139 - val_recall: 0.6621\n",
            "Epoch 8/32\n",
            "\u001b[1m625/625\u001b[0m \u001b[32m━━━━━━━━━━━━━━━━━━━━\u001b[0m\u001b[37m\u001b[0m \u001b[1m5s\u001b[0m 6ms/step - F1Score: 0.7695 - loss: 0.6488 - recall: 0.6962 - val_F1Score: 0.7286 - val_loss: 0.7990 - val_recall: 0.6758\n",
            "Epoch 9/32\n",
            "\u001b[1m625/625\u001b[0m \u001b[32m━━━━━━━━━━━━━━━━━━━━\u001b[0m\u001b[37m\u001b[0m \u001b[1m3s\u001b[0m 5ms/step - F1Score: 0.7924 - loss: 0.5933 - recall: 0.7259 - val_F1Score: 0.7462 - val_loss: 0.7578 - val_recall: 0.6948\n",
            "Epoch 10/32\n",
            "\u001b[1m625/625\u001b[0m \u001b[32m━━━━━━━━━━━━━━━━━━━━\u001b[0m\u001b[37m\u001b[0m \u001b[1m6s\u001b[0m 7ms/step - F1Score: 0.8049 - loss: 0.5456 - recall: 0.7475 - val_F1Score: 0.7383 - val_loss: 0.8134 - val_recall: 0.6832\n",
            "Epoch 11/32\n",
            "\u001b[1m625/625\u001b[0m \u001b[32m━━━━━━━━━━━━━━━━━━━━\u001b[0m\u001b[37m\u001b[0m \u001b[1m3s\u001b[0m 5ms/step - F1Score: 0.8152 - loss: 0.5126 - recall: 0.7636 - val_F1Score: 0.7273 - val_loss: 0.8392 - val_recall: 0.6727\n",
            "Epoch 12/32\n",
            "\u001b[1m625/625\u001b[0m \u001b[32m━━━━━━━━━━━━━━━━━━━━\u001b[0m\u001b[37m\u001b[0m \u001b[1m5s\u001b[0m 6ms/step - F1Score: 0.8308 - loss: 0.4712 - recall: 0.7822 - val_F1Score: 0.7471 - val_loss: 0.8091 - val_recall: 0.7062\n"
          ]
        },
        {
          "output_type": "execute_result",
          "data": {
            "text/plain": [
              "<keras.src.callbacks.history.History at 0x7efd70240d10>"
            ]
          },
          "metadata": {},
          "execution_count": 95
        }
      ]
    },
    {
      "cell_type": "code",
      "source": [
        "from sklearn.metrics import accuracy_score, f1_score\n",
        "\n",
        "predict_x=model_mod_2.predict(X_test)\n",
        "classes_x=np.argmax(predict_x,axis=1)\n",
        "\n",
        "test_acc = accuracy_score(y_test, classes_x)\n",
        "print(f'\\n Test_acc ={test_acc}')\n",
        "assert test_acc > 0.50, \"Not good enough. Back to the drawing board :)\"\n",
        "print(\" Not bad!\")"
      ],
      "metadata": {
        "colab": {
          "base_uri": "https://localhost:8080/"
        },
        "id": "W4cPZ-rU6TtS",
        "outputId": "ef56beab-f363-49e0-9cf9-9795014f324f"
      },
      "execution_count": 96,
      "outputs": [
        {
          "output_type": "stream",
          "name": "stdout",
          "text": [
            "\u001b[1m313/313\u001b[0m \u001b[32m━━━━━━━━━━━━━━━━━━━━\u001b[0m\u001b[37m\u001b[0m \u001b[1m1s\u001b[0m 3ms/step\n",
            "\n",
            " Test_acc =0.738\n",
            " Not bad!\n"
          ]
        }
      ]
    },
    {
      "cell_type": "code",
      "source": [
        "from sklearn.metrics import classification_report\n",
        "\n",
        "print(classification_report(y_test, classes_x))"
      ],
      "metadata": {
        "colab": {
          "base_uri": "https://localhost:8080/"
        },
        "id": "3u-0-Pte-7q3",
        "outputId": "b3a921e1-4c3a-49a2-a80a-7e31b7b9a9d8"
      },
      "execution_count": 97,
      "outputs": [
        {
          "output_type": "stream",
          "name": "stdout",
          "text": [
            "              precision    recall  f1-score   support\n",
            "\n",
            "           0       0.76      0.80      0.78      1000\n",
            "           1       0.87      0.84      0.86      1000\n",
            "           2       0.68      0.62      0.65      1000\n",
            "           3       0.51      0.58      0.54      1000\n",
            "           4       0.73      0.67      0.70      1000\n",
            "           5       0.60      0.64      0.62      1000\n",
            "           6       0.86      0.73      0.79      1000\n",
            "           7       0.76      0.81      0.79      1000\n",
            "           8       0.86      0.84      0.85      1000\n",
            "           9       0.81      0.84      0.82      1000\n",
            "\n",
            "    accuracy                           0.74     10000\n",
            "   macro avg       0.74      0.74      0.74     10000\n",
            "weighted avg       0.74      0.74      0.74     10000\n",
            "\n"
          ]
        }
      ]
    },
    {
      "cell_type": "markdown",
      "source": [
        "### N.B. Метод squeeze"
      ],
      "metadata": {
        "id": "BLLvGZnqBGjT"
      }
    },
    {
      "cell_type": "code",
      "source": [
        "mass = np.array([[[1], [2], [3]]])\n",
        "mass"
      ],
      "metadata": {
        "colab": {
          "base_uri": "https://localhost:8080/"
        },
        "id": "Nbmiuj8tAkXb",
        "outputId": "7835c60b-0998-4300-8aea-79df9d0b54fc"
      },
      "execution_count": 98,
      "outputs": [
        {
          "output_type": "execute_result",
          "data": {
            "text/plain": [
              "array([[[1],\n",
              "        [2],\n",
              "        [3]]])"
            ]
          },
          "metadata": {},
          "execution_count": 98
        }
      ]
    },
    {
      "cell_type": "code",
      "source": [
        "np.squeeze(mass, axis=0), np.squeeze(mass)"
      ],
      "metadata": {
        "colab": {
          "base_uri": "https://localhost:8080/"
        },
        "id": "wJhIHoCRAzi_",
        "outputId": "3701794f-e473-4318-93af-f86c4d3ee84c"
      },
      "execution_count": 99,
      "outputs": [
        {
          "output_type": "execute_result",
          "data": {
            "text/plain": [
              "(array([[1],\n",
              "        [2],\n",
              "        [3]]),\n",
              " array([1, 2, 3]))"
            ]
          },
          "metadata": {},
          "execution_count": 99
        }
      ]
    },
    {
      "cell_type": "code",
      "source": [
        "# Понимание 3n массива\n",
        "import numpy as np\n",
        "from PIL import Image\n",
        "\n",
        "# Загрузка изображения\n",
        "img = np.array(Image.open('IMG_20241210_144432.jpg'))\n",
        "\n",
        "# Проверка размеров\n",
        "print(img.shape)  # Например: (1080, 1920, 3)\n",
        "\n",
        "# Доступ к отдельному пикселю (строка 500, столбец 700)\n",
        "pixel = img[500, 700]\n",
        "print(pixel)  # Например: [120, 80, 200] - значения RGB\n",
        "\n",
        "# Значение только красного канала для этого пикселя\n",
        "red_value = img[500, 700, 0]\n",
        "print(red_value)  # Например: 120\n"
      ],
      "metadata": {
        "colab": {
          "base_uri": "https://localhost:8080/",
          "height": 332
        },
        "id": "J-LPNGQzzKQX",
        "outputId": "8a8e9862-ce49-4946-a4eb-b059320a8755"
      },
      "execution_count": 100,
      "outputs": [
        {
          "output_type": "error",
          "ename": "FileNotFoundError",
          "evalue": "[Errno 2] No such file or directory: 'IMG_20241210_144432.jpg'",
          "traceback": [
            "\u001b[0;31m---------------------------------------------------------------------------\u001b[0m",
            "\u001b[0;31mFileNotFoundError\u001b[0m                         Traceback (most recent call last)",
            "\u001b[0;32m<ipython-input-100-34cc86aedd2f>\u001b[0m in \u001b[0;36m<cell line: 0>\u001b[0;34m()\u001b[0m\n\u001b[1;32m      4\u001b[0m \u001b[0;34m\u001b[0m\u001b[0m\n\u001b[1;32m      5\u001b[0m \u001b[0;31m# Загрузка изображения\u001b[0m\u001b[0;34m\u001b[0m\u001b[0;34m\u001b[0m\u001b[0m\n\u001b[0;32m----> 6\u001b[0;31m \u001b[0mimg\u001b[0m \u001b[0;34m=\u001b[0m \u001b[0mnp\u001b[0m\u001b[0;34m.\u001b[0m\u001b[0marray\u001b[0m\u001b[0;34m(\u001b[0m\u001b[0mImage\u001b[0m\u001b[0;34m.\u001b[0m\u001b[0mopen\u001b[0m\u001b[0;34m(\u001b[0m\u001b[0;34m'IMG_20241210_144432.jpg'\u001b[0m\u001b[0;34m)\u001b[0m\u001b[0;34m)\u001b[0m\u001b[0;34m\u001b[0m\u001b[0;34m\u001b[0m\u001b[0m\n\u001b[0m\u001b[1;32m      7\u001b[0m \u001b[0;34m\u001b[0m\u001b[0m\n\u001b[1;32m      8\u001b[0m \u001b[0;31m# Проверка размеров\u001b[0m\u001b[0;34m\u001b[0m\u001b[0;34m\u001b[0m\u001b[0m\n",
            "\u001b[0;32m/usr/local/lib/python3.11/dist-packages/PIL/Image.py\u001b[0m in \u001b[0;36mopen\u001b[0;34m(fp, mode, formats)\u001b[0m\n\u001b[1;32m   3463\u001b[0m \u001b[0;34m\u001b[0m\u001b[0m\n\u001b[1;32m   3464\u001b[0m     \u001b[0;32mif\u001b[0m \u001b[0mfilename\u001b[0m\u001b[0;34m:\u001b[0m\u001b[0;34m\u001b[0m\u001b[0;34m\u001b[0m\u001b[0m\n\u001b[0;32m-> 3465\u001b[0;31m         \u001b[0mfp\u001b[0m \u001b[0;34m=\u001b[0m \u001b[0mbuiltins\u001b[0m\u001b[0;34m.\u001b[0m\u001b[0mopen\u001b[0m\u001b[0;34m(\u001b[0m\u001b[0mfilename\u001b[0m\u001b[0;34m,\u001b[0m \u001b[0;34m\"rb\"\u001b[0m\u001b[0;34m)\u001b[0m\u001b[0;34m\u001b[0m\u001b[0;34m\u001b[0m\u001b[0m\n\u001b[0m\u001b[1;32m   3466\u001b[0m         \u001b[0mexclusive_fp\u001b[0m \u001b[0;34m=\u001b[0m \u001b[0;32mTrue\u001b[0m\u001b[0;34m\u001b[0m\u001b[0;34m\u001b[0m\u001b[0m\n\u001b[1;32m   3467\u001b[0m     \u001b[0;32melse\u001b[0m\u001b[0;34m:\u001b[0m\u001b[0;34m\u001b[0m\u001b[0;34m\u001b[0m\u001b[0m\n",
            "\u001b[0;31mFileNotFoundError\u001b[0m: [Errno 2] No such file or directory: 'IMG_20241210_144432.jpg'"
          ]
        }
      ]
    }
  ]
}