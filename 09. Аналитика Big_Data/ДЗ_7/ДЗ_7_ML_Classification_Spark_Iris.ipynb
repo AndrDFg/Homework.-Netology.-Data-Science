{
  "nbformat": 4,
  "nbformat_minor": 0,
  "metadata": {
    "colab": {
      "provenance": []
    },
    "kernelspec": {
      "name": "python3",
      "display_name": "Python 3"
    },
    "language_info": {
      "name": "python"
    }
  },
  "cells": [
    {
      "cell_type": "code",
      "execution_count": null,
      "metadata": {
        "colab": {
          "base_uri": "https://localhost:8080/",
          "height": 254
        },
        "id": "71ADmzUs93Gq",
        "outputId": "fa39db0a-6dc4-47ea-ae34-2834817f4990"
      },
      "outputs": [
        {
          "output_type": "stream",
          "name": "stdout",
          "text": [
            "Requirement already satisfied: pyspark in /usr/local/lib/python3.10/dist-packages (3.5.3)\n",
            "Requirement already satisfied: py4j==0.10.9.7 in /usr/local/lib/python3.10/dist-packages (from pyspark) (0.10.9.7)\n"
          ]
        },
        {
          "output_type": "execute_result",
          "data": {
            "text/plain": [
              "<pyspark.sql.session.SparkSession at 0x7950a4bfadd0>"
            ],
            "text/html": [
              "\n",
              "            <div>\n",
              "                <p><b>SparkSession - in-memory</b></p>\n",
              "                \n",
              "        <div>\n",
              "            <p><b>SparkContext</b></p>\n",
              "\n",
              "            <p><a href=\"http://31fddaf749f4:4040\">Spark UI</a></p>\n",
              "\n",
              "            <dl>\n",
              "              <dt>Version</dt>\n",
              "                <dd><code>v3.5.3</code></dd>\n",
              "              <dt>Master</dt>\n",
              "                <dd><code>local[*]</code></dd>\n",
              "              <dt>AppName</dt>\n",
              "                <dd><code>pyspark-shell</code></dd>\n",
              "            </dl>\n",
              "        </div>\n",
              "        \n",
              "            </div>\n",
              "        "
            ]
          },
          "metadata": {},
          "execution_count": 5
        }
      ],
      "source": [
        "!pip install pyspark\n",
        "\n",
        "from pyspark.sql import SparkSession\n",
        "\n",
        "spark = SparkSession.builder.master(\"local[*]\").getOrCreate()\n",
        "sc = spark.sparkContext\n",
        "\n",
        "spark"
      ]
    },
    {
      "cell_type": "code",
      "source": [
        "iris = spark.read.csv('iris.csv', header=True, inferSchema=True)\n",
        "iris.show(5)"
      ],
      "metadata": {
        "colab": {
          "base_uri": "https://localhost:8080/"
        },
        "id": "9V4GCtIo_Mmb",
        "outputId": "dbac4afd-6df4-4fdd-93a3-b56912e883a7"
      },
      "execution_count": null,
      "outputs": [
        {
          "output_type": "stream",
          "name": "stdout",
          "text": [
            "+------------+-----------+------------+-----------+-------+-----------+\n",
            "|sepal_length|sepal_width|petal_length|petal_width|variety|variety_num|\n",
            "+------------+-----------+------------+-----------+-------+-----------+\n",
            "|         5.1|        3.5|         1.4|        0.2| Setosa|          0|\n",
            "|         4.9|        3.0|         1.4|        0.2| Setosa|          0|\n",
            "|         4.7|        3.2|         1.3|        0.2| Setosa|          0|\n",
            "|         4.6|        3.1|         1.5|        0.2| Setosa|          0|\n",
            "|         5.0|        3.6|         1.4|        0.2| Setosa|          0|\n",
            "+------------+-----------+------------+-----------+-------+-----------+\n",
            "only showing top 5 rows\n",
            "\n"
          ]
        }
      ]
    },
    {
      "cell_type": "code",
      "source": [
        "from pyspark.ml.feature import VectorAssembler"
      ],
      "metadata": {
        "id": "hu2vq4HBAV4l"
      },
      "execution_count": null,
      "outputs": []
    },
    {
      "cell_type": "code",
      "source": [
        "# Создаем и формируем столбец с признаками(x_attributes)\n",
        "vec_assembler = VectorAssembler(inputCols=['sepal_length', 'sepal_width', 'petal_length', 'petal_width'], outputCol='x_attributes')"
      ],
      "metadata": {
        "id": "6Zpcm6v5KBQj"
      },
      "execution_count": null,
      "outputs": []
    },
    {
      "cell_type": "code",
      "source": [
        "iris_new = vec_assembler.transform(iris)\n",
        "iris_new.show(3)"
      ],
      "metadata": {
        "colab": {
          "base_uri": "https://localhost:8080/"
        },
        "id": "cJDmh3etLVBa",
        "outputId": "b787859f-ac02-444b-eed4-dae3987e38b5"
      },
      "execution_count": null,
      "outputs": [
        {
          "output_type": "stream",
          "name": "stdout",
          "text": [
            "+------------+-----------+------------+-----------+-------+-----------+-----------------+\n",
            "|sepal_length|sepal_width|petal_length|petal_width|variety|variety_num|     x_attributes|\n",
            "+------------+-----------+------------+-----------+-------+-----------+-----------------+\n",
            "|         5.1|        3.5|         1.4|        0.2| Setosa|          0|[5.1,3.5,1.4,0.2]|\n",
            "|         4.9|        3.0|         1.4|        0.2| Setosa|          0|[4.9,3.0,1.4,0.2]|\n",
            "|         4.7|        3.2|         1.3|        0.2| Setosa|          0|[4.7,3.2,1.3,0.2]|\n",
            "+------------+-----------+------------+-----------+-------+-----------+-----------------+\n",
            "only showing top 3 rows\n",
            "\n"
          ]
        }
      ]
    },
    {
      "cell_type": "markdown",
      "source": [
        "**Pipeline. Как опция**\n",
        "\n",
        "Для примера возьму столбец 'variety' если бы не было столбца 'variety_num'"
      ],
      "metadata": {
        "id": "xp8Z0th8MWJ2"
      }
    },
    {
      "cell_type": "code",
      "source": [
        "from pyspark.ml import Pipeline\n",
        "from pyspark.ml.feature import StringIndexer"
      ],
      "metadata": {
        "id": "gHVypVc-MI0d"
      },
      "execution_count": null,
      "outputs": []
    },
    {
      "cell_type": "code",
      "source": [
        "pipeline = Pipeline(stages=[\n",
        "    VectorAssembler(inputCols=['sepal_length', 'sepal_width', 'petal_length', 'petal_width'], outputCol='x_attributes'),\n",
        "    StringIndexer(inputCol='variety', outputCol='variety_ID')\n",
        "    ])"
      ],
      "metadata": {
        "id": "ndkZvsE4M5ph"
      },
      "execution_count": null,
      "outputs": []
    },
    {
      "cell_type": "code",
      "source": [
        "iris_Trained = pipeline.fit(iris) # обучение\n",
        "iris_new_pipeline = iris_Trained.transform(iris) # транформация датасета"
      ],
      "metadata": {
        "id": "WotTRaZ2NUUI"
      },
      "execution_count": null,
      "outputs": []
    },
    {
      "cell_type": "code",
      "source": [
        "iris_new_pipeline.show(3)"
      ],
      "metadata": {
        "colab": {
          "base_uri": "https://localhost:8080/"
        },
        "id": "tkvDlcPEPrQj",
        "outputId": "10ab8784-04fe-425f-f5c9-620fe68688be"
      },
      "execution_count": null,
      "outputs": [
        {
          "output_type": "stream",
          "name": "stdout",
          "text": [
            "+------------+-----------+------------+-----------+-------+-----------+-----------------+----------+\n",
            "|sepal_length|sepal_width|petal_length|petal_width|variety|variety_num|     x_attributes|variety_ID|\n",
            "+------------+-----------+------------+-----------+-------+-----------+-----------------+----------+\n",
            "|         5.1|        3.5|         1.4|        0.2| Setosa|          0|[5.1,3.5,1.4,0.2]|       0.0|\n",
            "|         4.9|        3.0|         1.4|        0.2| Setosa|          0|[4.9,3.0,1.4,0.2]|       0.0|\n",
            "|         4.7|        3.2|         1.3|        0.2| Setosa|          0|[4.7,3.2,1.3,0.2]|       0.0|\n",
            "+------------+-----------+------------+-----------+-------+-----------+-----------------+----------+\n",
            "only showing top 3 rows\n",
            "\n"
          ]
        }
      ]
    },
    {
      "cell_type": "code",
      "source": [
        "# Формируем обучающую и тестовую выборки\n",
        "train, test = iris_new_pipeline.randomSplit([0.3, 0.7], seed=12345)# Для обучения выбрано 30%"
      ],
      "metadata": {
        "id": "WyYy396STA8y"
      },
      "execution_count": null,
      "outputs": []
    },
    {
      "cell_type": "code",
      "source": [
        "# Создаем и обучаем модель логической регрессии\n",
        "from pyspark.ml.classification import LogisticRegression"
      ],
      "metadata": {
        "id": "hgLU8alGT6qo"
      },
      "execution_count": null,
      "outputs": []
    },
    {
      "cell_type": "code",
      "source": [
        "ml_logregression = LogisticRegression(featuresCol='x_attributes', labelCol='variety_ID')"
      ],
      "metadata": {
        "id": "72H_dP_DVB5g"
      },
      "execution_count": null,
      "outputs": []
    },
    {
      "cell_type": "code",
      "source": [
        "ml_logregression_iris = ml_logregression.fit(train)"
      ],
      "metadata": {
        "id": "8RNjAFCjVh_A"
      },
      "execution_count": null,
      "outputs": []
    },
    {
      "cell_type": "code",
      "source": [
        "test_res = ml_logregression_iris.transform(test)\n",
        "test_res.show(15)"
      ],
      "metadata": {
        "colab": {
          "base_uri": "https://localhost:8080/"
        },
        "id": "RPKj2YsjWQ0p",
        "outputId": "15dd9e42-009f-43f4-e9fa-243bffba628f"
      },
      "execution_count": null,
      "outputs": [
        {
          "output_type": "stream",
          "name": "stdout",
          "text": [
            "+------------+-----------+------------+-----------+----------+-----------+-----------------+----------+--------------------+--------------------+----------+\n",
            "|sepal_length|sepal_width|petal_length|petal_width|   variety|variety_num|     x_attributes|variety_ID|       rawPrediction|         probability|prediction|\n",
            "+------------+-----------+------------+-----------+----------+-----------+-----------------+----------+--------------------+--------------------+----------+\n",
            "|         4.3|        3.0|         1.1|        0.1|    Setosa|          0|[4.3,3.0,1.1,0.1]|       0.0|[452.428503566451...|[1.0,8.1409701848...|       0.0|\n",
            "|         4.5|        2.3|         1.3|        0.3|    Setosa|          0|[4.5,2.3,1.3,0.3]|       0.0|[296.195850919264...|[2.73341895917972...|       1.0|\n",
            "|         4.6|        3.1|         1.5|        0.2|    Setosa|          0|[4.6,3.1,1.5,0.2]|       0.0|[390.805463182654...|[1.0,1.7254142893...|       0.0|\n",
            "|         4.6|        3.2|         1.4|        0.2|    Setosa|          0|[4.6,3.2,1.4,0.2]|       0.0|[410.243108118909...|[1.0,4.9029886948...|       0.0|\n",
            "|         4.6|        3.4|         1.4|        0.3|    Setosa|          0|[4.6,3.4,1.4,0.3]|       0.0|[419.789202168938...|[1.0,7.9444809127...|       0.0|\n",
            "|         4.7|        3.2|         1.3|        0.2|    Setosa|          0|[4.7,3.2,1.3,0.2]|       0.0|[406.267807962133...|[1.0,2.3283146886...|       0.0|\n",
            "|         4.8|        3.0|         1.4|        0.3|    Setosa|          0|[4.8,3.0,1.4,0.3]|       0.0|[347.356551786112...|[0.84640131125422...|       0.0|\n",
            "|         4.8|        3.1|         1.6|        0.2|    Setosa|          0|[4.8,3.1,1.6,0.2]|       0.0|[362.952068355481...|[0.99999999999770...|       0.0|\n",
            "|         4.8|        3.4|         1.9|        0.2|    Setosa|          0|[4.8,3.4,1.9,0.2]|       0.0|[381.459414137004...|[1.0,1.8256354901...|       0.0|\n",
            "|         4.9|        2.4|         3.3|        1.0|Versicolor|          1|[4.9,2.4,3.3,1.0]|       1.0|[21.4510112544282...|[4.66364649832712...|       1.0|\n",
            "|         4.9|        2.5|         4.5|        1.7| Virginica|          2|[4.9,2.5,4.5,1.7]|       2.0|[-157.78144972881...|[4.87465248233930...|       1.0|\n",
            "|         4.9|        3.0|         1.4|        0.2|    Setosa|          0|[4.9,3.0,1.4,0.2]|       0.0|[352.807652938197...|[0.97532314918749...|       0.0|\n",
            "|         4.9|        3.6|         1.4|        0.1|    Setosa|          0|[4.9,3.6,1.4,0.1]|       0.0|[445.688599675221...|[1.0,3.4886727074...|       0.0|\n",
            "|         5.0|        2.0|         3.5|        1.0|Versicolor|          1|[5.0,2.0,3.5,1.0]|       1.0|[-53.640603809495...|[2.49165437170393...|       1.0|\n",
            "|         5.0|        2.3|         3.3|        1.0|Versicolor|          1|[5.0,2.3,3.3,1.0]|       1.0|[-1.9619338386028...|[2.79069477366803...|       1.0|\n",
            "+------------+-----------+------------+-----------+----------+-----------+-----------------+----------+--------------------+--------------------+----------+\n",
            "only showing top 15 rows\n",
            "\n"
          ]
        }
      ]
    },
    {
      "cell_type": "code",
      "source": [
        "train_res = ml_logregression_iris.transform(train)\n",
        "train_res.show(5)"
      ],
      "metadata": {
        "colab": {
          "base_uri": "https://localhost:8080/"
        },
        "id": "xVZtpAOKYxbI",
        "outputId": "79fed098-6463-408b-8759-c673e6c0e549"
      },
      "execution_count": null,
      "outputs": [
        {
          "output_type": "stream",
          "name": "stdout",
          "text": [
            "+------------+-----------+------------+-----------+-------+-----------+-----------------+----------+--------------------+--------------------+----------+\n",
            "|sepal_length|sepal_width|petal_length|petal_width|variety|variety_num|     x_attributes|variety_ID|       rawPrediction|         probability|prediction|\n",
            "+------------+-----------+------------+-----------+-------+-----------+-----------------+----------+--------------------+--------------------+----------+\n",
            "|         4.4|        2.9|         1.4|        0.2| Setosa|          0|[4.4,2.9,1.4,0.2]|       0.0|[393.052097813064...|[0.99999998937737...|       0.0|\n",
            "|         4.4|        3.0|         1.3|        0.2| Setosa|          0|[4.4,3.0,1.3,0.2]|       0.0|[412.489742749319...|[1.0,3.0185580859...|       0.0|\n",
            "|         4.4|        3.2|         1.3|        0.2| Setosa|          0|[4.4,3.2,1.3,0.2]|       0.0|[438.096502946082...|[1.0,3.6904595711...|       0.0|\n",
            "|         4.6|        3.6|         1.0|        0.2| Setosa|          0|[4.6,3.6,1.0,0.2]|       0.0|[487.993687863931...|[1.0,3.1969135891...|       0.0|\n",
            "|         4.7|        3.2|         1.6|        0.2| Setosa|          0|[4.7,3.2,1.6,0.2]|       0.0|[386.365013448512...|[1.0,1.3717044437...|       0.0|\n",
            "+------------+-----------+------------+-----------+-------+-----------+-----------------+----------+--------------------+--------------------+----------+\n",
            "only showing top 5 rows\n",
            "\n"
          ]
        }
      ]
    },
    {
      "cell_type": "code",
      "source": [
        "# Оценка качества модели\n",
        "from pyspark.ml.evaluation import MulticlassClassificationEvaluator"
      ],
      "metadata": {
        "id": "EdOZXYoAXU3I"
      },
      "execution_count": null,
      "outputs": []
    },
    {
      "cell_type": "code",
      "source": [
        "multi_eva = MulticlassClassificationEvaluator(labelCol='variety_ID')\n",
        "multi_eva.evaluate(test_res)"
      ],
      "metadata": {
        "colab": {
          "base_uri": "https://localhost:8080/"
        },
        "id": "nil9RwXqXqLt",
        "outputId": "fefa33d6-91af-47cf-84c1-e3c567d09ae3"
      },
      "execution_count": null,
      "outputs": [
        {
          "output_type": "execute_result",
          "data": {
            "text/plain": [
              "0.8805097302078726"
            ]
          },
          "metadata": {},
          "execution_count": 61
        }
      ]
    },
    {
      "cell_type": "code",
      "source": [
        "multi_eva.evaluate(train_res)"
      ],
      "metadata": {
        "colab": {
          "base_uri": "https://localhost:8080/"
        },
        "id": "MKOUFpqiZKDA",
        "outputId": "8bb96779-225f-44dc-d532-4217ae4f9926"
      },
      "execution_count": null,
      "outputs": [
        {
          "output_type": "execute_result",
          "data": {
            "text/plain": [
              "1.0"
            ]
          },
          "metadata": {},
          "execution_count": 62
        }
      ]
    },
    {
      "cell_type": "markdown",
      "source": [
        "# Модель дерева решений\n",
        "from pyspark.ml.classification import DecisionTreeClassifier # Классификатор решений"
      ],
      "metadata": {
        "id": "1NTZd-V7aJ1c"
      }
    }
  ]
}