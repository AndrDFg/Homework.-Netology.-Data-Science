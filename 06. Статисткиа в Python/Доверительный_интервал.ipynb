{
  "nbformat": 4,
  "nbformat_minor": 0,
  "metadata": {
    "colab": {
      "provenance": []
    },
    "kernelspec": {
      "name": "python3",
      "display_name": "Python 3"
    },
    "language_info": {
      "name": "python"
    }
  },
  "cells": [
    {
      "cell_type": "code",
      "execution_count": 3,
      "metadata": {
        "id": "f1oj8WKVW-6x"
      },
      "outputs": [],
      "source": [
        "from scipy import stats\n",
        "import pandas as pd\n",
        "import numpy as np\n"
      ]
    },
    {
      "cell_type": "markdown",
      "source": [
        "**ЗАДАЧА_1**\n",
        "Определите размер необходимой выборки для исследования среднего чека за кофе в городе N, если известны следующие параметры:\n",
        "\n",
        "погрешность (Δ);\n",
        "дисперсия (σ2);\n",
        "уровень доверия (1-α).\n",
        "Распределение считаем нормальным.\n",
        "\n",
        "Внимание: не удаляйте код ниже, а дополните его. Функция нужна для проверки вашего решения."
      ],
      "metadata": {
        "id": "BPCt3H5vgBUu"
      }
    },
    {
      "cell_type": "code",
      "source": [
        "import numpy as np\n",
        "from scipy import stats\n",
        "\n",
        "\n",
        "def sample(delta, sigsqr, conf):\n",
        "  \"\"\"\n",
        "  np.ceil - округляет до целого цисла в большую сторону: н-р 5,2 человека округляется до 6\n",
        "  np.square - возвед(ение в квадрат\n",
        "  np.sqrt - корень квадрата\n",
        "  Формула: ((Za*σ)/∆)**2\n",
        "  \"\"\"\n",
        "  return np.ceil(np.square(np.sqrt(sigsqr) * stats.norm.ppf(1-(1-conf)/2)/delta))"
      ],
      "metadata": {
        "id": "RKOEg9u8gC86"
      },
      "execution_count": 8,
      "outputs": []
    },
    {
      "cell_type": "markdown",
      "source": [
        "**ЗАДАЧА_2**\n",
        "Постройте доверительный интервал для среднего значения, если известны:\n",
        "\n",
        "объём выборки (n) от 30 до 50;\n",
        "среднее значение по выборке (x¯);\n",
        "стандартное отклонение (σ).\n",
        "В ответе укажите длину полученного доверительного интервала — разницу между правым и левым концом.\n",
        "\n",
        "Подсказка: при малом размере выборки предпочтительнее использовать t-распределение из модуля scipy.\n",
        "\n",
        "Внимание: не удаляйте код ниже, а дополните его. Функция нужна для проверки вашего решения.\n"
      ],
      "metadata": {
        "id": "9L6ncHWimXu8"
      }
    },
    {
      "cell_type": "code",
      "source": [
        "import numpy as np\n",
        "from scipy import stats\n",
        "\n",
        "\n",
        "def interval(n, mean, sig, conf):\n",
        "  \"\"\"\n",
        "  Формула: (σ*Za)/np.sqrt(n) - корень квадрата из n\n",
        "  \"\"\"\n",
        "  h = sig*stats.norm.ppf((1 + conf)/2)/np.sqrt(n)\n",
        "  return (mean + h) - (mean - h) # ?????????????????????????????????????"
      ],
      "metadata": {
        "id": "2DPUU4Z7mZjq"
      },
      "execution_count": 22,
      "outputs": []
    },
    {
      "cell_type": "code",
      "source": [
        "stats.norm.ppf(0.995) # Бета - уровень доверия 99% при двустороннем распределении"
      ],
      "metadata": {
        "colab": {
          "base_uri": "https://localhost:8080/"
        },
        "id": "QT0Ofa_JXNFy",
        "outputId": "ffad6379-e831-4b43-e246-67890867d729"
      },
      "execution_count": 5,
      "outputs": [
        {
          "output_type": "execute_result",
          "data": {
            "text/plain": [
              "2.5758293035489004"
            ]
          },
          "metadata": {},
          "execution_count": 5
        }
      ]
    },
    {
      "cell_type": "code",
      "source": [
        "stats.norm.ppf(1-0.05/2) # 5% - альфа - уровень значимости при двустороннем распределении"
      ],
      "metadata": {
        "colab": {
          "base_uri": "https://localhost:8080/"
        },
        "id": "V3UbIMerSibi",
        "outputId": "7d5a2288-acb3-4e84-ef1f-91f74d259aa8"
      },
      "execution_count": 19,
      "outputs": [
        {
          "output_type": "execute_result",
          "data": {
            "text/plain": [
              "1.959963984540054"
            ]
          },
          "metadata": {},
          "execution_count": 19
        }
      ]
    },
    {
      "cell_type": "code",
      "source": [
        "stats.norm.ppf(1-0.05) # 5% - альфа - уровень значимости при положительном одностороннем  распределении"
      ],
      "metadata": {
        "colab": {
          "base_uri": "https://localhost:8080/"
        },
        "id": "jN-x-Hpbky-U",
        "outputId": "a136213f-7dbb-41e2-c34f-a08e4eeee5f0"
      },
      "execution_count": 9,
      "outputs": [
        {
          "output_type": "execute_result",
          "data": {
            "text/plain": [
              "1.6448536269514722"
            ]
          },
          "metadata": {},
          "execution_count": 9
        }
      ]
    },
    {
      "cell_type": "code",
      "source": [
        "stats.norm.ppf(0.05) # 5% - альфа - уровень значимости при отрицательном одностороннем  распределении"
      ],
      "metadata": {
        "colab": {
          "base_uri": "https://localhost:8080/"
        },
        "id": "0bJB-FCgk68z",
        "outputId": "607ce835-2092-45c3-9cd2-3b42a473ef50"
      },
      "execution_count": 10,
      "outputs": [
        {
          "output_type": "execute_result",
          "data": {
            "text/plain": [
              "-1.6448536269514729"
            ]
          },
          "metadata": {},
          "execution_count": 10
        }
      ]
    },
    {
      "cell_type": "code",
      "source": [
        "stats.norm.ppf(0.975) # Бета - уровень доверия 95% при двустороннем распределении"
      ],
      "metadata": {
        "colab": {
          "base_uri": "https://localhost:8080/"
        },
        "id": "WGlAO5jFMbPT",
        "outputId": "186873e0-08ba-4ad2-d105-e20ad4f4a5b6"
      },
      "execution_count": 83,
      "outputs": [
        {
          "output_type": "execute_result",
          "data": {
            "text/plain": [
              "1.959963984540054"
            ]
          },
          "metadata": {},
          "execution_count": 83
        }
      ]
    },
    {
      "cell_type": "code",
      "source": [
        "stats.norm.ppf((1 + 0.95)/2) # Бета - уровень доверия 95% при двустороннем распределении"
      ],
      "metadata": {
        "colab": {
          "base_uri": "https://localhost:8080/"
        },
        "id": "UPxaK3epL_Mz",
        "outputId": "00a4e847-e690-4157-c632-d6dab2576c4d"
      },
      "execution_count": 85,
      "outputs": [
        {
          "output_type": "execute_result",
          "data": {
            "text/plain": [
              "1.959963984540054"
            ]
          },
          "metadata": {},
          "execution_count": 85
        }
      ]
    },
    {
      "cell_type": "code",
      "source": [
        "stats.t.ppf(1-0.01/2, 16-1) # Для малых выборок - до 30. Используют t-распределение Стьюдента (метод stats.t),\n",
        "                            #где 16 - 1 (степень свободы), в данном примере: уровень значимости 1% при двуст\\распр"
      ],
      "metadata": {
        "colab": {
          "base_uri": "https://localhost:8080/"
        },
        "id": "ZiUoELBk1DGq",
        "outputId": "f4b10d41-3ad7-4660-91ef-7d8dcb1365e1"
      },
      "execution_count": 23,
      "outputs": [
        {
          "output_type": "execute_result",
          "data": {
            "text/plain": [
              "2.946712883338615"
            ]
          },
          "metadata": {},
          "execution_count": 23
        }
      ]
    }
  ]
}