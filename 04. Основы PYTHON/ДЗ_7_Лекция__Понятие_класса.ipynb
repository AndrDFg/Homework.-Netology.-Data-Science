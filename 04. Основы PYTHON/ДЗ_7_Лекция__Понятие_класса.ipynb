{
  "nbformat": 4,
  "nbformat_minor": 0,
  "metadata": {
    "colab": {
      "provenance": []
    },
    "kernelspec": {
      "name": "python3",
      "display_name": "Python 3"
    },
    "language_info": {
      "name": "python"
    }
  },
  "cells": [
    {
      "cell_type": "markdown",
      "source": [
        "**Задание_1**\n",
        "\n",
        "Напишите функцию, которая возвращает название валюты (поле ‘Name’) с максимальным значением курса с помощью сервиса"
      ],
      "metadata": {
        "id": "GBMkJXGc1z45"
      }
    },
    {
      "cell_type": "code",
      "execution_count": null,
      "metadata": {
        "colab": {
          "base_uri": "https://localhost:8080/"
        },
        "id": "OlUB1dU3m8L1",
        "outputId": "020a8cc1-07d4-4dfa-afa2-1503d2b01f02"
      },
      "outputs": [
        {
          "output_type": "stream",
          "name": "stdout",
          "text": [
            "Курс валюты на: 2024-06-19T11:30:00+03:00\n",
            "Валюта с максимальным значением: XDR - 114.6674\n"
          ]
        }
      ],
      "source": [
        "import requests\n",
        "url_ = 'https://www.cbr-xml-daily.ru/daily_json.js'\n",
        "\n",
        "response_dict = requests.get(url_).json()\n",
        "\n",
        "date_update = response_dict['Date']\n",
        "print(f'Курс валюты на: {date_update}')\n",
        "\n",
        "\n",
        "valute = response_dict['Valute']\n",
        "\n",
        "#valute_max = max(val[1]['Value'] for val in valute.items())\n",
        "\n",
        "valute_max = max(map(lambda tubl: tubl[1]['Value'], valute.items()))\n",
        "\n",
        "valute_name = max(valute.items(), key=lambda tubl: tubl[1]['Value'])[1]['CharCode'] # key=lambda tubl: tubl[1]['Value'] - получаем встроенный словарь с макс значением 'Value'. Далее из него получаем конкретные значения\n",
        "\n",
        "\n",
        "print(f'Валюта с максимальным значением: {valute_name} - {valute_max}')"
      ]
    },
    {
      "cell_type": "code",
      "source": [
        "valute_name = max(valute.items(), key=lambda tubl: tubl[1]['Value'])[1]['Value']# ['Name']\n",
        "valute_name"
      ],
      "metadata": {
        "colab": {
          "base_uri": "https://localhost:8080/"
        },
        "id": "uvZoSB7GXyrt",
        "outputId": "22b5b21e-fcde-4ee0-deee-e8ce19a9bb30"
      },
      "execution_count": null,
      "outputs": [
        {
          "output_type": "execute_result",
          "data": {
            "text/plain": [
              "114.6674"
            ]
          },
          "metadata": {},
          "execution_count": 46
        }
      ]
    },
    {
      "cell_type": "code",
      "source": [
        "# Пример получения макс пары ключ - значение\n",
        "Tv = {'BreakingBad':100, 'GameOfThrones':1292, 'TMKUC' : 88}\n",
        "Keymax = max(zip(Tv.values(), Tv.keys()))\n",
        "print(Keymax)"
      ],
      "metadata": {
        "colab": {
          "base_uri": "https://localhost:8080/"
        },
        "id": "kgan6B_wXNFC",
        "outputId": "0c48abb5-2b8a-414b-9cfe-764f52cdb601"
      },
      "execution_count": null,
      "outputs": [
        {
          "output_type": "stream",
          "name": "stdout",
          "text": [
            "(1292, 'GameOfThrones')\n"
          ]
        }
      ]
    },
    {
      "cell_type": "code",
      "source": [
        "qwr = max(Tv, key=lambda k: Tv[k])\n",
        "qwr"
      ],
      "metadata": {
        "colab": {
          "base_uri": "https://localhost:8080/",
          "height": 36
        },
        "id": "sd8ghb7AeofB",
        "outputId": "85a7002b-ec85-475a-f036-ee0bea74a6f6"
      },
      "execution_count": null,
      "outputs": [
        {
          "output_type": "execute_result",
          "data": {
            "text/plain": [
              "'GameOfThrones'"
            ],
            "application/vnd.google.colaboratory.intrinsic+json": {
              "type": "string"
            }
          },
          "metadata": {},
          "execution_count": 39
        }
      ]
    },
    {
      "cell_type": "markdown",
      "source": [
        "**Задание_2**\n",
        "Добавьте в класс Rate параметр diff (со значениями True или False), который в случае значения True в методах курсов валют (eur, usd итд) будет возвращать не курс валюты, а изменение по сравнению в прошлым значением. Считайте, self.diff будет принимать значение True только при возврате значения курса. При отображении всей информации о валюте он не используется."
      ],
      "metadata": {
        "id": "GdkU98Pi6uFw"
      }
    },
    {
      "cell_type": "code",
      "source": [
        "\n",
        "class Rate:\n",
        "    def __init__(self, info='value', diff=False):\n",
        "        self.info = info\n",
        "        self.diff = diff\n",
        "\n",
        "\n",
        "    def course_requests(self):\n",
        "\n",
        "        \"\"\"Функция выполняет запрос и возвращает словарь со всеми валютами:\n",
        "\n",
        "      {'AUD': {'ID': 'R01010',\n",
        "          'NumCode': '036',\n",
        "          'CharCode': 'AUD',\n",
        "          'Nominal': 1,\n",
        "          'Name': 'Австралийский доллар',\n",
        "          'Value': 59.015,\n",
        "          'Previous': 58.5878},\n",
        "     'AZN': {'ID': 'R01020A',\n",
        "          'NumCode': '944',\n",
        "          'CharCode': 'AZN',\n",
        "          'Nominal': 1,\n",
        "          'Name': 'Азербайджанский манат',\n",
        "          'Value': 52.3916,\n",
        "          'Previous': 51.8871},\n",
        "          }...\n",
        "        \"\"\"\n",
        "\n",
        "        import requests\n",
        "        url_ = 'https://www.cbr-xml-daily.ru/daily_json.js'\n",
        "        response_dict = requests.get(url_).json()\n",
        "        return response_dict['Valute']\n",
        "\n",
        "    def get_name_currency(self):\n",
        "\n",
        "        \"\"\" Функция возвращает словарь всей валюты c названием. для удобства выбора валюты\"\"\"\n",
        "\n",
        "        response_dict = self.course_requests()\n",
        "        list_CharCode = [currency[0] for currency in response_dict.items()]\n",
        "        list_Name =[currency[1]['Name'] for currency in response_dict.items()]\n",
        "        zip_ = zip(list_CharCode, list_Name)\n",
        "        return dict(zip_)\n",
        "\n",
        "\n",
        "    def currency_information(self, currency):\n",
        "        \"\"\"\n",
        "        Данная функция получает информацию о валюте:\n",
        "        Метод 'full' - Rate('full') - получает полную информацию о валюте.\n",
        "        Метод 'value' - Rate() - по умолчании - получает текущую информацию о курсе валюты.\n",
        "        Метод 'diff' -  Rate() - по умолчании False - не отображает изменения.\n",
        "        Метод 'diff' -  Rate(diff=True) - изменение курса в сравнении с прошлым значением. info='value' - по умолчании!\n",
        "\n",
        "        \"\"\"\n",
        "\n",
        "        response_dict = self.course_requests()\n",
        "        if currency in response_dict:\n",
        "            if self.info == 'full':\n",
        "                return response_dict[currency]\n",
        "            if self.info == 'value':\n",
        "                if self.diff == True:\n",
        "                    print(\n",
        "                        f\"Текущий курс: {round(response_dict[currency]['Value'], 2)}\\nИзменение курса валюты по \"\n",
        "                        f\"сравнению с прошлым значением: \"\n",
        "                        f\"{round(response_dict[currency]['Value'] - response_dict[currency]['Previous'], 2)}\")\n",
        "                else:\n",
        "                    return response_dict[currency]['Value']\n",
        "\n",
        "    def usd(self):\n",
        "        \"Функция возвращает тукущий курс валюты\"\n",
        "        return f\"Доллара США: {self.currency_information('USD')}\"\n",
        "\n",
        "    def gbr(self):\n",
        "        \"Функция возвращает тукущий курс валюты\"\n",
        "        response_dict = self.course_requests()\n",
        "        return f\"Фунта стерлингов Соединенного королевства: {self.currency_information('GBP')}\"\n",
        "\n",
        "    def eur(self):\n",
        "        \"Функция возвращает тукущий курс валюты\"\n",
        "        response_dict = self.course_requests()\n",
        "        return f\"Евро: {self.currency_information('EUR')}\"\n",
        "\n",
        "    def cny(self):\n",
        "        \"Функция возвращает тукущий курс валюты\"\n",
        "        return f\"Китайский юань: {self.currency_information('CNY')}\""
      ],
      "metadata": {
        "id": "bNzOZ9Qa2GXv"
      },
      "execution_count": null,
      "outputs": []
    },
    {
      "cell_type": "code",
      "source": [
        "curs_1 = Rate(diff=True)\n",
        "curs_1.currency_information('CNY')"
      ],
      "metadata": {
        "colab": {
          "base_uri": "https://localhost:8080/"
        },
        "id": "gxBr_tNMzcLt",
        "outputId": "66dbd08a-963c-4ff5-9640-79e8daf99943"
      },
      "execution_count": null,
      "outputs": [
        {
          "output_type": "stream",
          "name": "stdout",
          "text": [
            "Текущий курс: 12.13\n",
            "Изменение курса валюты по сравнению с прошлым значением: -0.04\n"
          ]
        }
      ]
    },
    {
      "cell_type": "code",
      "source": [
        "curs_2 = Rate('full')\n",
        "curs_2.usd()"
      ],
      "metadata": {
        "colab": {
          "base_uri": "https://localhost:8080/",
          "height": 36
        },
        "id": "f0bXs6GLKh8N",
        "outputId": "080c1db6-485e-4ddf-c9ef-024ac3fa064c"
      },
      "execution_count": null,
      "outputs": [
        {
          "output_type": "execute_result",
          "data": {
            "text/plain": [
              "\"Доллара США: {'ID': 'R01235', 'NumCode': '840', 'CharCode': 'USD', 'Nominal': 1, 'Name': 'Доллар США', 'Value': 87.0354, 'Previous': 89.0499}\""
            ],
            "application/vnd.google.colaboratory.intrinsic+json": {
              "type": "string"
            }
          },
          "metadata": {},
          "execution_count": 26
        }
      ]
    },
    {
      "cell_type": "code",
      "source": [
        "curs_3 = Rate(info='full').currency_information('EUR')\n",
        "curs_3"
      ],
      "metadata": {
        "colab": {
          "base_uri": "https://localhost:8080/"
        },
        "id": "K1qqwf_EK77y",
        "outputId": "b612b601-e87a-403f-f1a0-75b739aff2e6"
      },
      "execution_count": null,
      "outputs": [
        {
          "output_type": "execute_result",
          "data": {
            "text/plain": [
              "{'ID': 'R01239',\n",
              " 'NumCode': '978',\n",
              " 'CharCode': 'EUR',\n",
              " 'Nominal': 1,\n",
              " 'Name': 'Евро',\n",
              " 'Value': 93.2994,\n",
              " 'Previous': 95.3906}"
            ]
          },
          "metadata": {},
          "execution_count": 43
        }
      ]
    },
    {
      "cell_type": "code",
      "source": [
        "# Для удобства\n",
        "curs_3 = Rate()\n",
        "curs_3.get_name_currency()"
      ],
      "metadata": {
        "id": "qQw4bYq1Vqp3"
      },
      "execution_count": null,
      "outputs": []
    },
    {
      "cell_type": "markdown",
      "source": [
        "**Задание_3**\n",
        "Напишите класс Designer, который учитывает количество международных премий для дизайнеров (из презентации: “Повышение на 1 грейд за каждые 7 баллов. Получение международной премии – это +2 балла”). Считайте, что при выходе на работу сотрудник уже имеет две премии и их количество не меняется со стажем (конечно если хотите это можно вручную менять).\n",
        "\n",
        "Класс Designer пишется по аналогии с классом Developer из материалов занятия.\n",
        "\n"
      ],
      "metadata": {
        "id": "ItSKXTN8y5fm"
      }
    },
    {
      "cell_type": "code",
      "source": [
        "\n",
        "# За основу базового класса для сотрудников взял такие атрибуты класса:\n",
        "class Employee:\n",
        "  def __init__(self, name_employee, accreditation, grade=0):\n",
        "    self.name_employee = name_employee   # Имя сотрудника\n",
        "    self.accreditation = accreditation   # число аккредитаций\n",
        "    self.grade = grade                   # уровень специалиста, по умолчании - 0\n",
        "\n",
        "\n",
        "  def up_grade(self):\n",
        "\n",
        "    \"\"\"Функция повышает уровень сотрудника\"\"\"\n",
        "\n",
        "    self.grade += 1\n",
        "\n",
        "\n",
        "  def info_Employee(self):\n",
        "\n",
        "    \"\"\"Функция которая выводит информацию о сотруднике\"\"\"\n",
        "\n",
        "    print(f'Имя сотрудника: {self.name_employee}. Аккредитаций - {self.accreditation}. Уровень специалиста - {self.grade}')\n",
        "\n"
      ],
      "metadata": {
        "id": "v8Nm99pPzWwX"
      },
      "execution_count": null,
      "outputs": []
    },
    {
      "cell_type": "code",
      "source": [
        "Andrey = Employee('Андрей', 0)\n",
        "Andrey.info_Employee()"
      ],
      "metadata": {
        "colab": {
          "base_uri": "https://localhost:8080/"
        },
        "id": "5LDjibS9dOAh",
        "outputId": "45a53725-0ca4-4a7b-eda1-256fe38be73a"
      },
      "execution_count": null,
      "outputs": [
        {
          "output_type": "stream",
          "name": "stdout",
          "text": [
            "Имя сотрудника: Андрей. Аккредитаций - 0. Уровень специалиста - 0\n"
          ]
        }
      ]
    },
    {
      "cell_type": "code",
      "source": [
        "Andrey.up_grade()\n",
        "Andrey.info_Employee()"
      ],
      "metadata": {
        "colab": {
          "base_uri": "https://localhost:8080/"
        },
        "id": "qPP4WySoYUFr",
        "outputId": "bf7b183a-63b6-4183-b2b4-b3bb44e0f172"
      },
      "execution_count": null,
      "outputs": [
        {
          "output_type": "stream",
          "name": "stdout",
          "text": [
            "Имя сотрудника: Андрей. Аккредитаций - 0. Уровень специалиста - 1\n"
          ]
        }
      ]
    },
    {
      "cell_type": "code",
      "source": [
        "class Designer(Employee):\n",
        "  def __init__(self, name_employee, accreditation, international_award=2):\n",
        "    self.international_award = international_award  # международные премии. По умолчании - 2\n",
        "    super().__init__(name_employee, accreditation)\n",
        "\n",
        "  def up_accreditation(self):\n",
        "\n",
        "    \"\"\" Функция которая прибавляет 1 балл сотруднику (число аккредитаций). Если число баллов кратное 7 применяется функция up_grade,\n",
        "    таким образом автоматически повышается уровень сотрудника\"\"\"\n",
        "\n",
        "    self.accreditation += 1\n",
        "    if self.accreditation % 7 == 0:\n",
        "      self.up_grade()\n",
        "\n",
        "  def get_international_award(self):\n",
        "\n",
        "    \"\"\"Функция которая повышает колличество баллов сотруднику при получении одной международной премии\"\"\"\n",
        "\n",
        "    self.international_award += 1\n",
        "    self.accreditation += 2\n",
        "\n",
        "  def full_info_Employee(self):\n",
        "\n",
        "    \"\"\"Вывод полной информации о сотруднике\"\"\"\n",
        "\n",
        "    print(f'Имя сотрудника: {self.name_employee}.\\nАккредитаций - {self.accreditation}.\\nУровень специалиста - {self.grade}.\\nВсего международных премий - {self.international_award}')\n",
        "\n"
      ],
      "metadata": {
        "id": "zhNCSEiuy2A2"
      },
      "execution_count": null,
      "outputs": []
    },
    {
      "cell_type": "code",
      "source": [
        "# Получение баллов через 'range'\n",
        "petrov = Designer('Петр', 0)\n",
        "for i in range(1, 21+1):\n",
        "  petrov.up_accreditation()\n",
        "\n",
        "petrov.info_Employee()"
      ],
      "metadata": {
        "colab": {
          "base_uri": "https://localhost:8080/"
        },
        "id": "bN7tQ03VkNFH",
        "outputId": "b8bbf8d4-6be5-44fc-b188-20acdae8b4bf"
      },
      "execution_count": null,
      "outputs": [
        {
          "output_type": "stream",
          "name": "stdout",
          "text": [
            "Имя сотрудника: Петр. Аккредитаций - 21. Уровень специалиста - 3\n"
          ]
        }
      ]
    },
    {
      "cell_type": "code",
      "source": [
        "# Получение премии с автоматическим повышением на 2 аккредитационных балла.\n",
        "petrov.get_international_award()\n",
        "\n",
        "petrov.info_Employee()"
      ],
      "metadata": {
        "colab": {
          "base_uri": "https://localhost:8080/"
        },
        "id": "JPWs7G3lXOq_",
        "outputId": "16d67a9d-e42f-4c2f-91f1-26fa03bac5dd"
      },
      "execution_count": null,
      "outputs": [
        {
          "output_type": "stream",
          "name": "stdout",
          "text": [
            "Имя сотрудника: Петр. Аккредитаций - 23. Уровень специалиста - 3\n"
          ]
        }
      ]
    },
    {
      "cell_type": "code",
      "source": [
        "petrov.full_info_Employee()"
      ],
      "metadata": {
        "colab": {
          "base_uri": "https://localhost:8080/"
        },
        "id": "WV4TdTOuVUUr",
        "outputId": "e111b804-fd5c-4cf9-f510-afc2c3d46421"
      },
      "execution_count": null,
      "outputs": [
        {
          "output_type": "stream",
          "name": "stdout",
          "text": [
            "Имя сотрудника: Петр.\n",
            "Аккредитаций - 23.\n",
            "Уровень специалиста - 3.\n",
            "Всего международных премий - 3\n"
          ]
        }
      ]
    }
  ]
}